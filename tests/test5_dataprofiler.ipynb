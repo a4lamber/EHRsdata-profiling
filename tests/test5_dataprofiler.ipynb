{
 "cells": [
  {
   "attachments": {},
   "cell_type": "markdown",
   "metadata": {},
   "source": [
    "# learning dataprofiler\n",
    "\n",
    "This testing script is dedicated to learn the [dataprofiler](https://pypi.org/project/DataProfiler/#:~:text=The%20DataProfiler%20is%20a%20Python,PII%20%2F%20NPI) available in Pypi. There are two ways\n",
    "\n"
   ]
  },
  {
   "cell_type": "code",
   "execution_count": 3,
   "metadata": {},
   "outputs": [],
   "source": [
    "from dataprofiler import Data, Profiler\n",
    "import pathlib\n",
    "import json"
   ]
  },
  {
   "cell_type": "code",
   "execution_count": null,
   "metadata": {},
   "outputs": [
    {
     "ename": "",
     "evalue": "",
     "output_type": "error",
     "traceback": [
      "\u001b[1;31mnotebook controller is DISPOSED. \n",
      "\u001b[1;31mView Jupyter <a href='command:jupyter.viewOutput'>log</a> for further details."
     ]
    },
    {
     "ename": "",
     "evalue": "",
     "output_type": "error",
     "traceback": [
      "\u001b[1;31mnotebook controller is DISPOSED. \n",
      "\u001b[1;31mView Jupyter <a href='command:jupyter.viewOutput'>log</a> for further details."
     ]
    }
   ],
   "source": [
    "path = \"../rawdata\"\n",
    "data = pathlib.Path(path)\n",
    "# recursively read files\n",
    "files = list(data.rglob(\"*.csv*\"))\n",
    "# conver POSIX to string\n",
    "files = [str(file) for file in files]\n"
   ]
  },
  {
   "cell_type": "code",
   "execution_count": null,
   "metadata": {},
   "outputs": [
    {
     "data": {
      "text/plain": [
       "'../rawdata/mimic2-iaccd/1.0/aline-mimic-ii-master/Data_Analysis/R/hufeng/auroc.csv'"
      ]
     },
     "execution_count": 3,
     "metadata": {},
     "output_type": "execute_result"
    },
    {
     "ename": "",
     "evalue": "",
     "output_type": "error",
     "traceback": [
      "\u001b[1;31mnotebook controller is DISPOSED. \n",
      "\u001b[1;31mView Jupyter <a href='command:jupyter.viewOutput'>log</a> for further details."
     ]
    },
    {
     "ename": "",
     "evalue": "",
     "output_type": "error",
     "traceback": [
      "\u001b[1;31mnotebook controller is DISPOSED. \n",
      "\u001b[1;31mView Jupyter <a href='command:jupyter.viewOutput'>log</a> for further details."
     ]
    }
   ],
   "source": [
    "files[50]"
   ]
  },
  {
   "attachments": {},
   "cell_type": "markdown",
   "metadata": {},
   "source": [
    "Now, we start play around with a CSVData object\n"
   ]
  },
  {
   "cell_type": "code",
   "execution_count": null,
   "metadata": {},
   "outputs": [
    {
     "ename": "",
     "evalue": "",
     "output_type": "error",
     "traceback": [
      "\u001b[1;31mCanceled future for execute_request message before replies were done"
     ]
    },
    {
     "ename": "",
     "evalue": "",
     "output_type": "error",
     "traceback": [
      "\u001b[1;31mThe Kernel crashed while executing code in the the current cell or a previous cell. Please review the code in the cell(s) to identify a possible cause of the failure. Click <a href='https://aka.ms/vscodeJupyterKernelCrash'>here</a> for more info. View Jupyter <a href='command:jupyter.viewOutput'>log</a> for further details."
     ]
    },
    {
     "ename": "",
     "evalue": "",
     "output_type": "error",
     "traceback": [
      "\u001b[1;31mnotebook controller is DISPOSED. \n",
      "\u001b[1;31mView Jupyter <a href='command:jupyter.viewOutput'>log</a> for further details."
     ]
    },
    {
     "ename": "",
     "evalue": "",
     "output_type": "error",
     "traceback": [
      "\u001b[1;31mnotebook controller is DISPOSED. \n",
      "\u001b[1;31mView Jupyter <a href='command:jupyter.viewOutput'>log</a> for further details."
     ]
    }
   ],
   "source": [
    "# load a file\n",
    "df = Data(files[50])\n",
    "\n",
    "# Profile a dataset\n",
    "profile = Profiler(df)\n",
    "\n"
   ]
  },
  {
   "cell_type": "code",
   "execution_count": null,
   "metadata": {},
   "outputs": [
    {
     "ename": "",
     "evalue": "",
     "output_type": "error",
     "traceback": [
      "\u001b[1;31mnotebook controller is DISPOSED. \n",
      "\u001b[1;31mView Jupyter <a href='command:jupyter.viewOutput'>log</a> for further details."
     ]
    },
    {
     "ename": "",
     "evalue": "",
     "output_type": "error",
     "traceback": [
      "\u001b[1;31mnotebook controller is DISPOSED. \n",
      "\u001b[1;31mView Jupyter <a href='command:jupyter.viewOutput'>log</a> for further details."
     ]
    }
   ],
   "source": [
    "report = profile.report(report_options={\"output_format\":\"pretty\"})"
   ]
  },
  {
   "cell_type": "code",
   "execution_count": null,
   "metadata": {},
   "outputs": [
    {
     "name": "stdout",
     "output_type": "stream",
     "text": [
      "{\n",
      "    \"global_stats\": {\n",
      "        \"samples_used\": 20,\n",
      "        \"column_count\": 3,\n",
      "        \"row_count\": 20,\n",
      "        \"row_has_null_ratio\": 1.0,\n",
      "        \"row_is_null_ratio\": 0.0,\n",
      "        \"unique_row_ratio\": 1.0,\n",
      "        \"duplicate_row_count\": 0,\n",
      "        \"file_type\": \"csv\",\n",
      "        \"encoding\": \"utf-8\",\n",
      "        \"correlation_matrix\": null,\n",
      "        \"chi2_matrix\": \"[[nan, nan, nan],\\n [nan, nan, nan],\\n [nan, nan,  1.]]\",\n",
      "        \"profile_schema\": {\n",
      "            \"subset_id\": [\n",
      "                0\n",
      "            ],\n",
      "            \"AUROC\": [\n",
      "                1\n",
      "            ],\n",
      "            \"Unnamed: 2\": [\n",
      "                2\n",
      "            ]\n",
      "        },\n",
      "        \"times\": {\n",
      "            \"row_stats\": 0.0018\n",
      "        }\n",
      "    },\n",
      "    \"data_stats\": [\n",
      "        {\n",
      "            \"column_name\": \"subset_id\",\n",
      "            \"data_type\": \"int\",\n",
      "            \"categorical\": false,\n",
      "            \"order\": \"ascending\",\n",
      "            \"samples\": \"['7', '1', '8', '3', '11']\",\n",
      "            \"statistics\": {\n",
      "                \"min\": 1.0,\n",
      "                \"max\": 20.0,\n",
      "                \"mode\": \"[1.0095, 1.9975, 3.0045, 3.9925, 4.9995]\",\n",
      "                \"median\": 10.5,\n",
      "                \"sum\": 210.0,\n",
      "                \"mean\": 10.5,\n",
      "                \"variance\": 35.0,\n",
      "                \"stddev\": 5.9161,\n",
      "                \"skewness\": 0.0,\n",
      "                \"kurtosis\": -1.2,\n",
      "                \"histogram\": {\n",
      "                    \"bin_edges\": \"[1.        , 4.16666667, ... , 16.83333333, 20.        ]\",\n",
      "                    \"bin_counts\": \"[4., 3., 3., 3., 3., 4.]\"\n",
      "                },\n",
      "                \"quantiles\": {\n",
      "                    \"0\": 5.009,\n",
      "                    \"1\": 10.5,\n",
      "                    \"2\": 15.003\n",
      "                },\n",
      "                \"median_abs_deviation\": 4.997,\n",
      "                \"num_zeros\": 0,\n",
      "                \"num_negatives\": 0,\n",
      "                \"times\": {\n",
      "                    \"min\": 0.0002,\n",
      "                    \"max\": 0.0,\n",
      "                    \"sum\": 0.0001,\n",
      "                    \"variance\": 0.0001,\n",
      "                    \"skewness\": 0.0003,\n",
      "                    \"kurtosis\": 0.0002,\n",
      "                    \"histogram_and_quantiles\": 0.0011,\n",
      "                    \"num_zeros\": 0.0001,\n",
      "                    \"num_negatives\": 0.0001\n",
      "                },\n",
      "                \"unique_count\": 20,\n",
      "                \"unique_ratio\": 1.0,\n",
      "                \"sample_size\": 20,\n",
      "                \"null_count\": 0,\n",
      "                \"null_types\": [],\n",
      "                \"null_types_index\": {},\n",
      "                \"data_type_representation\": {\n",
      "                    \"datetime\": 0.0,\n",
      "                    \"int\": 1.0,\n",
      "                    \"float\": 1.0,\n",
      "                    \"string\": 1.0\n",
      "                }\n",
      "            }\n",
      "        },\n",
      "        {\n",
      "            \"column_name\": \"AUROC\",\n",
      "            \"data_type\": \"float\",\n",
      "            \"categorical\": false,\n",
      "            \"order\": \"random\",\n",
      "            \"samples\": \"['0.7859', '0.8037', '0.7861', '0.8163', '0.7486']\",\n",
      "            \"statistics\": {\n",
      "                \"min\": 0.7486,\n",
      "                \"max\": 0.8163,\n",
      "                \"mode\": \"[0.80732975]\",\n",
      "                \"median\": 0.802,\n",
      "                \"sum\": 15.8964,\n",
      "                \"mean\": 0.7948,\n",
      "                \"variance\": 0.0003,\n",
      "                \"stddev\": 0.0166,\n",
      "                \"skewness\": -1.1479,\n",
      "                \"kurtosis\": 1.5554,\n",
      "                \"histogram\": {\n",
      "                    \"bin_edges\": \"[0.7486    , 0.75988333, ... , 0.80501667, 0.8163    ]\",\n",
      "                    \"bin_counts\": \"[1., 0., 3., 5., 3., 8.]\"\n",
      "                },\n",
      "                \"quantiles\": {\n",
      "                    \"0\": 0.7859,\n",
      "                    \"1\": 0.802,\n",
      "                    \"2\": 0.8073\n",
      "                },\n",
      "                \"median_abs_deviation\": 0.0108,\n",
      "                \"num_zeros\": 0,\n",
      "                \"num_negatives\": 0,\n",
      "                \"times\": {\n",
      "                    \"precision\": 0.0007,\n",
      "                    \"min\": 0.0,\n",
      "                    \"max\": 0.0,\n",
      "                    \"sum\": 0.0001,\n",
      "                    \"variance\": 0.0,\n",
      "                    \"skewness\": 0.0002,\n",
      "                    \"kurtosis\": 0.0001,\n",
      "                    \"histogram_and_quantiles\": 0.0008,\n",
      "                    \"num_zeros\": 0.0001,\n",
      "                    \"num_negatives\": 0.0001\n",
      "                },\n",
      "                \"precision\": {\n",
      "                    \"min\": 4,\n",
      "                    \"max\": 4,\n",
      "                    \"mean\": 4.0,\n",
      "                    \"var\": 0.0,\n",
      "                    \"std\": 0.0,\n",
      "                    \"sample_size\": 20,\n",
      "                    \"margin_of_error\": 0.0,\n",
      "                    \"confidence_level\": 0.999\n",
      "                },\n",
      "                \"unique_count\": 19,\n",
      "                \"unique_ratio\": 0.95,\n",
      "                \"sample_size\": 20,\n",
      "                \"null_count\": 0,\n",
      "                \"null_types\": [],\n",
      "                \"null_types_index\": {},\n",
      "                \"data_type_representation\": {\n",
      "                    \"datetime\": 0.0,\n",
      "                    \"int\": 0.0,\n",
      "                    \"float\": 1.0,\n",
      "                    \"string\": 1.0\n",
      "                }\n",
      "            }\n",
      "        },\n",
      "        {\n",
      "            \"column_name\": \"Unnamed: 2\",\n",
      "            \"data_type\": null,\n",
      "            \"categorical\": true,\n",
      "            \"order\": null,\n",
      "            \"samples\": [],\n",
      "            \"statistics\": {\n",
      "                \"unique_count\": 0,\n",
      "                \"unique_ratio\": 1.0,\n",
      "                \"categories\": [],\n",
      "                \"gini_impurity\": null,\n",
      "                \"unalikeability\": null,\n",
      "                \"categorical_count\": {},\n",
      "                \"sample_size\": 20,\n",
      "                \"null_count\": 20,\n",
      "                \"null_types\": \"['']\",\n",
      "                \"null_types_index\": {\n",
      "                    \"\": \"[0, 1, 2, 3, 4, 5, 6, ... , 13, 14, 15, 16, 17, 18, 19]\"\n",
      "                }\n",
      "            }\n",
      "        }\n",
      "    ]\n",
      "}\n"
     ]
    },
    {
     "ename": "",
     "evalue": "",
     "output_type": "error",
     "traceback": [
      "\u001b[1;31mnotebook controller is DISPOSED. \n",
      "\u001b[1;31mView Jupyter <a href='command:jupyter.viewOutput'>log</a> for further details."
     ]
    },
    {
     "ename": "",
     "evalue": "",
     "output_type": "error",
     "traceback": [
      "\u001b[1;31mnotebook controller is DISPOSED. \n",
      "\u001b[1;31mView Jupyter <a href='command:jupyter.viewOutput'>log</a> for further details."
     ]
    }
   ],
   "source": [
    "print(json.dumps(report,indent=4))"
   ]
  },
  {
   "cell_type": "code",
   "execution_count": null,
   "metadata": {},
   "outputs": [
    {
     "ename": "",
     "evalue": "",
     "output_type": "error",
     "traceback": [
      "\u001b[1;31mnotebook controller is DISPOSED. \n",
      "\u001b[1;31mView Jupyter <a href='command:jupyter.viewOutput'>log</a> for further details."
     ]
    },
    {
     "ename": "",
     "evalue": "",
     "output_type": "error",
     "traceback": [
      "\u001b[1;31mnotebook controller is DISPOSED. \n",
      "\u001b[1;31mView Jupyter <a href='command:jupyter.viewOutput'>log</a> for further details."
     ]
    }
   ],
   "source": []
  }
 ],
 "metadata": {
  "kernelspec": {
   "display_name": "EHR_test",
   "language": "python",
   "name": "python3"
  },
  "language_info": {
   "codemirror_mode": {
    "name": "ipython",
    "version": 3
   },
   "file_extension": ".py",
   "mimetype": "text/x-python",
   "name": "python",
   "nbconvert_exporter": "python",
   "pygments_lexer": "ipython3",
   "version": "3.11.3"
  },
  "orig_nbformat": 4
 },
 "nbformat": 4,
 "nbformat_minor": 2
}
