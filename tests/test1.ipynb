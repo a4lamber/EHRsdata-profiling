{
 "cells": [
  {
   "attachments": {},
   "cell_type": "markdown",
   "metadata": {},
   "source": [
    "# Testing scripts\n",
    "\n",
    "This script is to test the functionality of data profiling.\n"
   ]
  },
  {
   "cell_type": "code",
   "execution_count": 130,
   "metadata": {},
   "outputs": [],
   "source": [
    "import pandas as pd\n",
    "import os\n",
    "import pathlib\n",
    "import matplotlib.pyplot as plt\n",
    "import matplotlib.ticker as mtick\n",
    "import numpy as np"
   ]
  },
  {
   "attachments": {},
   "cell_type": "markdown",
   "metadata": {},
   "source": [
    "Find a way to recursively list all the files mathcing the csv file format."
   ]
  },
  {
   "cell_type": "code",
   "execution_count": 131,
   "metadata": {},
   "outputs": [
    {
     "data": {
      "text/plain": [
       "[PosixPath('../rawdata/eicu-crd-demo/2.0.1/diagnosis.csv.gz'),\n",
       " PosixPath('../rawdata/eicu-crd-demo/2.0.1/vitalAperiodic.csv.gz'),\n",
       " PosixPath('../rawdata/eicu-crd-demo/2.0.1/admissionDx.csv.gz'),\n",
       " PosixPath('../rawdata/eicu-crd-demo/2.0.1/respiratoryCare.csv.gz'),\n",
       " PosixPath('../rawdata/eicu-crd-demo/2.0.1/nurseAssessment.csv.gz'),\n",
       " PosixPath('../rawdata/eicu-crd-demo/2.0.1/hospital.csv.gz'),\n",
       " PosixPath('../rawdata/eicu-crd-demo/2.0.1/vitalPeriodic.csv.gz'),\n",
       " PosixPath('../rawdata/eicu-crd-demo/2.0.1/carePlanGeneral.csv.gz'),\n",
       " PosixPath('../rawdata/eicu-crd-demo/2.0.1/patient.csv.gz'),\n",
       " PosixPath('../rawdata/eicu-crd-demo/2.0.1/carePlanGoal.csv.gz'),\n",
       " PosixPath('../rawdata/eicu-crd-demo/2.0.1/treatment.csv.gz'),\n",
       " PosixPath('../rawdata/eicu-crd-demo/2.0.1/apacheApsVar.csv.gz'),\n",
       " PosixPath('../rawdata/eicu-crd-demo/2.0.1/carePlanEOL.csv.gz'),\n",
       " PosixPath('../rawdata/eicu-crd-demo/2.0.1/infusiondrug.csv.gz'),\n",
       " PosixPath('../rawdata/eicu-crd-demo/2.0.1/carePlanCareProvider.csv.gz'),\n",
       " PosixPath('../rawdata/eicu-crd-demo/2.0.1/microLab.csv.gz'),\n",
       " PosixPath('../rawdata/eicu-crd-demo/2.0.1/nurseCare.csv.gz'),\n",
       " PosixPath('../rawdata/eicu-crd-demo/2.0.1/physicalExam.csv.gz'),\n",
       " PosixPath('../rawdata/eicu-crd-demo/2.0.1/respiratoryCharting.csv.gz'),\n",
       " PosixPath('../rawdata/eicu-crd-demo/2.0.1/note.csv.gz'),\n",
       " PosixPath('../rawdata/eicu-crd-demo/2.0.1/admissiondrug.csv.gz'),\n",
       " PosixPath('../rawdata/eicu-crd-demo/2.0.1/lab.csv.gz'),\n",
       " PosixPath('../rawdata/eicu-crd-demo/2.0.1/apachePredVar.csv.gz'),\n",
       " PosixPath('../rawdata/eicu-crd-demo/2.0.1/customLab.csv.gz'),\n",
       " PosixPath('../rawdata/eicu-crd-demo/2.0.1/apachePatientResult.csv.gz'),\n",
       " PosixPath('../rawdata/eicu-crd-demo/2.0.1/carePlanInfectiousDisease.csv.gz'),\n",
       " PosixPath('../rawdata/eicu-crd-demo/2.0.1/allergy.csv.gz'),\n",
       " PosixPath('../rawdata/eicu-crd-demo/2.0.1/nurseCharting.csv.gz'),\n",
       " PosixPath('../rawdata/eicu-crd-demo/2.0.1/pastHistory.csv.gz'),\n",
       " PosixPath('../rawdata/eicu-crd-demo/2.0.1/medication.csv.gz'),\n",
       " PosixPath('../rawdata/eicu-crd-demo/2.0.1/intakeOutput.csv.gz'),\n",
       " PosixPath('../rawdata/mimic-iv-ed-demo/2.2/ed/diagnosis.csv.gz'),\n",
       " PosixPath('../rawdata/mimic-iv-ed-demo/2.2/ed/medrecon.csv.gz'),\n",
       " PosixPath('../rawdata/mimic-iv-ed-demo/2.2/ed/vitalsign.csv.gz'),\n",
       " PosixPath('../rawdata/mimic-iv-ed-demo/2.2/ed/triage.csv.gz'),\n",
       " PosixPath('../rawdata/mimic-iv-ed-demo/2.2/ed/edstays.csv.gz'),\n",
       " PosixPath('../rawdata/mimic-iv-ed-demo/2.2/ed/pyxis.csv.gz'),\n",
       " PosixPath('../rawdata/mimic2-iaccd/1.0/full_cohort_data.csv'),\n",
       " PosixPath('../rawdata/mimic2-iaccd/1.0/aline-mimic-ii-master/Data_Analysis/R/hufeng/rnd12.csv'),\n",
       " PosixPath('../rawdata/mimic2-iaccd/1.0/aline-mimic-ii-master/Data_Analysis/R/hufeng/rnd5.csv'),\n",
       " PosixPath('../rawdata/mimic2-iaccd/1.0/aline-mimic-ii-master/Data_Analysis/R/hufeng/rnd4.csv'),\n",
       " PosixPath('../rawdata/mimic2-iaccd/1.0/aline-mimic-ii-master/Data_Analysis/R/hufeng/rnd13.csv'),\n",
       " PosixPath('../rawdata/mimic2-iaccd/1.0/aline-mimic-ii-master/Data_Analysis/R/hufeng/rnd11.csv'),\n",
       " PosixPath('../rawdata/mimic2-iaccd/1.0/aline-mimic-ii-master/Data_Analysis/R/hufeng/rnd6.csv'),\n",
       " PosixPath('../rawdata/mimic2-iaccd/1.0/aline-mimic-ii-master/Data_Analysis/R/hufeng/rnd7.csv'),\n",
       " PosixPath('../rawdata/mimic2-iaccd/1.0/aline-mimic-ii-master/Data_Analysis/R/hufeng/rnd10.csv'),\n",
       " PosixPath('../rawdata/mimic2-iaccd/1.0/aline-mimic-ii-master/Data_Analysis/R/hufeng/rnd14.csv'),\n",
       " PosixPath('../rawdata/mimic2-iaccd/1.0/aline-mimic-ii-master/Data_Analysis/R/hufeng/rnd3.csv'),\n",
       " PosixPath('../rawdata/mimic2-iaccd/1.0/aline-mimic-ii-master/Data_Analysis/R/hufeng/rnd2.csv'),\n",
       " PosixPath('../rawdata/mimic2-iaccd/1.0/aline-mimic-ii-master/Data_Analysis/R/hufeng/rnd15.csv'),\n",
       " PosixPath('../rawdata/mimic2-iaccd/1.0/aline-mimic-ii-master/Data_Analysis/R/hufeng/auroc.csv'),\n",
       " PosixPath('../rawdata/mimic2-iaccd/1.0/aline-mimic-ii-master/Data_Analysis/R/hufeng/rnd17.csv'),\n",
       " PosixPath('../rawdata/mimic2-iaccd/1.0/aline-mimic-ii-master/Data_Analysis/R/hufeng/rnd1.csv'),\n",
       " PosixPath('../rawdata/mimic2-iaccd/1.0/aline-mimic-ii-master/Data_Analysis/R/hufeng/rnd16.csv'),\n",
       " PosixPath('../rawdata/mimic2-iaccd/1.0/aline-mimic-ii-master/Data_Analysis/R/hufeng/rnd18.csv'),\n",
       " PosixPath('../rawdata/mimic2-iaccd/1.0/aline-mimic-ii-master/Data_Analysis/R/hufeng/rnd19.csv'),\n",
       " PosixPath('../rawdata/mimic2-iaccd/1.0/aline-mimic-ii-master/Data_Analysis/R/hufeng/rnd20.csv'),\n",
       " PosixPath('../rawdata/mimic2-iaccd/1.0/aline-mimic-ii-master/Data_Analysis/R/hufeng/rnd9.csv'),\n",
       " PosixPath('../rawdata/mimic2-iaccd/1.0/aline-mimic-ii-master/Data_Analysis/R/hufeng/rnd8.csv'),\n",
       " PosixPath('../rawdata/mimic2-iaccd/1.0/aline-mimic-ii-master/Data_Extraction/plotdata.csv'),\n",
       " PosixPath('../rawdata/mimic2-iaccd/1.0/aline-mimic-ii-master/Data_Extraction/or.csv'),\n",
       " PosixPath('../rawdata/mimic2-iaccd/1.0/aline-mimic-ii-master/Data_Extraction/temp.csv'),\n",
       " PosixPath('../rawdata/mimic2-iaccd/1.0/aline-mimic-ii-master/Data_Extraction/pvalue.csv'),\n",
       " PosixPath('../rawdata/mimic-iii-demo/PROCEDUREEVENTS_MV.csv'),\n",
       " PosixPath('../rawdata/mimic-iii-demo/CALLOUT.csv'),\n",
       " PosixPath('../rawdata/mimic-iii-demo/D_CPT.csv'),\n",
       " PosixPath('../rawdata/mimic-iii-demo/D_ITEMS.csv'),\n",
       " PosixPath('../rawdata/mimic-iii-demo/CAREGIVERS.csv'),\n",
       " PosixPath('../rawdata/mimic-iii-demo/MICROBIOLOGYEVENTS.csv'),\n",
       " PosixPath('../rawdata/mimic-iii-demo/LABEVENTS.csv'),\n",
       " PosixPath('../rawdata/mimic-iii-demo/INPUTEVENTS_CV.csv'),\n",
       " PosixPath('../rawdata/mimic-iii-demo/ADMISSIONS.csv'),\n",
       " PosixPath('../rawdata/mimic-iii-demo/D_LABITEMS.csv'),\n",
       " PosixPath('../rawdata/mimic-iii-demo/DATETIMEEVENTS.csv'),\n",
       " PosixPath('../rawdata/mimic-iii-demo/PRESCRIPTIONS.csv'),\n",
       " PosixPath('../rawdata/mimic-iii-demo/PROCEDURES_ICD.csv'),\n",
       " PosixPath('../rawdata/mimic-iii-demo/NOTEEVENTS.csv'),\n",
       " PosixPath('../rawdata/mimic-iii-demo/CHARTEVENTS.csv'),\n",
       " PosixPath('../rawdata/mimic-iii-demo/TRANSFERS.csv'),\n",
       " PosixPath('../rawdata/mimic-iii-demo/DIAGNOSES_ICD.csv'),\n",
       " PosixPath('../rawdata/mimic-iii-demo/SERVICES.csv'),\n",
       " PosixPath('../rawdata/mimic-iii-demo/DRGCODES.csv'),\n",
       " PosixPath('../rawdata/mimic-iii-demo/OUTPUTEVENTS.csv'),\n",
       " PosixPath('../rawdata/mimic-iii-demo/PATIENTS.csv'),\n",
       " PosixPath('../rawdata/mimic-iii-demo/D_ICD_DIAGNOSES.csv'),\n",
       " PosixPath('../rawdata/mimic-iii-demo/ICUSTAYS.csv'),\n",
       " PosixPath('../rawdata/mimic-iii-demo/INPUTEVENTS_MV.csv'),\n",
       " PosixPath('../rawdata/mimic-iii-demo/D_ICD_PROCEDURES.csv'),\n",
       " PosixPath('../rawdata/mimic-iii-demo/CPTEVENTS.csv'),\n",
       " PosixPath('../rawdata/mimic-iv-demo/2.2/demo_subject_id.csv'),\n",
       " PosixPath('../rawdata/mimic-iv-demo/2.2/hosp/poe.csv.gz'),\n",
       " PosixPath('../rawdata/mimic-iv-demo/2.2/hosp/d_hcpcs.csv.gz'),\n",
       " PosixPath('../rawdata/mimic-iv-demo/2.2/hosp/poe_detail.csv.gz'),\n",
       " PosixPath('../rawdata/mimic-iv-demo/2.2/hosp/patients.csv.gz'),\n",
       " PosixPath('../rawdata/mimic-iv-demo/2.2/hosp/diagnoses_icd.csv.gz'),\n",
       " PosixPath('../rawdata/mimic-iv-demo/2.2/hosp/emar_detail.csv.gz'),\n",
       " PosixPath('../rawdata/mimic-iv-demo/2.2/hosp/provider.csv.gz'),\n",
       " PosixPath('../rawdata/mimic-iv-demo/2.2/hosp/prescriptions.csv.gz'),\n",
       " PosixPath('../rawdata/mimic-iv-demo/2.2/hosp/drgcodes.csv.gz'),\n",
       " PosixPath('../rawdata/mimic-iv-demo/2.2/hosp/d_icd_diagnoses.csv.gz'),\n",
       " PosixPath('../rawdata/mimic-iv-demo/2.2/hosp/d_labitems.csv.gz'),\n",
       " PosixPath('../rawdata/mimic-iv-demo/2.2/hosp/transfers.csv.gz'),\n",
       " PosixPath('../rawdata/mimic-iv-demo/2.2/hosp/admissions.csv.gz'),\n",
       " PosixPath('../rawdata/mimic-iv-demo/2.2/hosp/labevents.csv.gz'),\n",
       " PosixPath('../rawdata/mimic-iv-demo/2.2/hosp/pharmacy.csv.gz'),\n",
       " PosixPath('../rawdata/mimic-iv-demo/2.2/hosp/procedures_icd.csv.gz'),\n",
       " PosixPath('../rawdata/mimic-iv-demo/2.2/hosp/hcpcsevents.csv.gz'),\n",
       " PosixPath('../rawdata/mimic-iv-demo/2.2/hosp/services.csv.gz'),\n",
       " PosixPath('../rawdata/mimic-iv-demo/2.2/hosp/d_icd_procedures.csv.gz'),\n",
       " PosixPath('../rawdata/mimic-iv-demo/2.2/hosp/omr.csv.gz'),\n",
       " PosixPath('../rawdata/mimic-iv-demo/2.2/hosp/emar.csv.gz'),\n",
       " PosixPath('../rawdata/mimic-iv-demo/2.2/hosp/microbiologyevents.csv.gz'),\n",
       " PosixPath('../rawdata/mimic-iv-demo/2.2/icu/datetimeevents.csv.gz'),\n",
       " PosixPath('../rawdata/mimic-iv-demo/2.2/icu/caregiver.csv.gz'),\n",
       " PosixPath('../rawdata/mimic-iv-demo/2.2/icu/ingredientevents.csv.gz'),\n",
       " PosixPath('../rawdata/mimic-iv-demo/2.2/icu/inputevents.csv.gz'),\n",
       " PosixPath('../rawdata/mimic-iv-demo/2.2/icu/procedureevents.csv.gz'),\n",
       " PosixPath('../rawdata/mimic-iv-demo/2.2/icu/d_items.csv.gz'),\n",
       " PosixPath('../rawdata/mimic-iv-demo/2.2/icu/chartevents.csv.gz'),\n",
       " PosixPath('../rawdata/mimic-iv-demo/2.2/icu/icustays.csv.gz'),\n",
       " PosixPath('../rawdata/mimic-iv-demo/2.2/icu/outputevents.csv.gz')]"
      ]
     },
     "execution_count": 131,
     "metadata": {},
     "output_type": "execute_result"
    }
   ],
   "source": [
    "path = \"../rawdata\"\n",
    "\n",
    "data = pathlib.Path(path)\n",
    "\n",
    "csv_files = list(data.rglob(\"*.csv*\"))\n",
    "csv_files"
   ]
  },
  {
   "cell_type": "code",
   "execution_count": 132,
   "metadata": {},
   "outputs": [
    {
     "data": {
      "text/html": [
       "<div>\n",
       "<style scoped>\n",
       "    .dataframe tbody tr th:only-of-type {\n",
       "        vertical-align: middle;\n",
       "    }\n",
       "\n",
       "    .dataframe tbody tr th {\n",
       "        vertical-align: top;\n",
       "    }\n",
       "\n",
       "    .dataframe thead th {\n",
       "        text-align: right;\n",
       "    }\n",
       "</style>\n",
       "<table border=\"1\" class=\"dataframe\">\n",
       "  <thead>\n",
       "    <tr style=\"text-align: right;\">\n",
       "      <th></th>\n",
       "      <th>diagnosisid</th>\n",
       "      <th>patientunitstayid</th>\n",
       "      <th>activeupondischarge</th>\n",
       "      <th>diagnosisoffset</th>\n",
       "      <th>diagnosisstring</th>\n",
       "      <th>icd9code</th>\n",
       "      <th>diagnosispriority</th>\n",
       "    </tr>\n",
       "  </thead>\n",
       "  <tbody>\n",
       "    <tr>\n",
       "      <th>24973</th>\n",
       "      <td>43897237</td>\n",
       "      <td>3158501</td>\n",
       "      <td>True</td>\n",
       "      <td>11</td>\n",
       "      <td>neurologic|altered mental status / pain|enceph...</td>\n",
       "      <td>348.31, G93.41</td>\n",
       "      <td>Other</td>\n",
       "    </tr>\n",
       "    <tr>\n",
       "      <th>24974</th>\n",
       "      <td>44151864</td>\n",
       "      <td>3158501</td>\n",
       "      <td>True</td>\n",
       "      <td>11</td>\n",
       "      <td>hematology|white blood cell disorders|leukocyt...</td>\n",
       "      <td>288.8, D72.829</td>\n",
       "      <td>Other</td>\n",
       "    </tr>\n",
       "    <tr>\n",
       "      <th>24975</th>\n",
       "      <td>44379558</td>\n",
       "      <td>3158501</td>\n",
       "      <td>True</td>\n",
       "      <td>11</td>\n",
       "      <td>pulmonary|disorders of acid base|respiratory a...</td>\n",
       "      <td>276.2, E87.2</td>\n",
       "      <td>Other</td>\n",
       "    </tr>\n",
       "    <tr>\n",
       "      <th>24976</th>\n",
       "      <td>44000639</td>\n",
       "      <td>3158501</td>\n",
       "      <td>True</td>\n",
       "      <td>11</td>\n",
       "      <td>neurologic|altered mental status / pain|delirium</td>\n",
       "      <td>293.0, F05</td>\n",
       "      <td>Other</td>\n",
       "    </tr>\n",
       "    <tr>\n",
       "      <th>24977</th>\n",
       "      <td>44496559</td>\n",
       "      <td>3173599</td>\n",
       "      <td>True</td>\n",
       "      <td>36</td>\n",
       "      <td>cardiovascular|chest pain / ASHD|acute coronar...</td>\n",
       "      <td>410.90, I21.3</td>\n",
       "      <td>Primary</td>\n",
       "    </tr>\n",
       "  </tbody>\n",
       "</table>\n",
       "</div>"
      ],
      "text/plain": [
       "       diagnosisid  patientunitstayid  activeupondischarge  diagnosisoffset  \\\n",
       "24973     43897237            3158501                 True               11   \n",
       "24974     44151864            3158501                 True               11   \n",
       "24975     44379558            3158501                 True               11   \n",
       "24976     44000639            3158501                 True               11   \n",
       "24977     44496559            3173599                 True               36   \n",
       "\n",
       "                                         diagnosisstring        icd9code  \\\n",
       "24973  neurologic|altered mental status / pain|enceph...  348.31, G93.41   \n",
       "24974  hematology|white blood cell disorders|leukocyt...  288.8, D72.829   \n",
       "24975  pulmonary|disorders of acid base|respiratory a...    276.2, E87.2   \n",
       "24976   neurologic|altered mental status / pain|delirium      293.0, F05   \n",
       "24977  cardiovascular|chest pain / ASHD|acute coronar...   410.90, I21.3   \n",
       "\n",
       "      diagnosispriority  \n",
       "24973             Other  \n",
       "24974             Other  \n",
       "24975             Other  \n",
       "24976             Other  \n",
       "24977           Primary  "
      ]
     },
     "execution_count": 132,
     "metadata": {},
     "output_type": "execute_result"
    }
   ],
   "source": [
    "df = pd.read_csv(csv_files[0])\n",
    "df.tail()"
   ]
  },
  {
   "attachments": {},
   "cell_type": "markdown",
   "metadata": {},
   "source": [
    "## % of null\n",
    "this section is dedicated to test the percentage of null .\n",
    "\n",
    "$$\n",
    "\\begin{align}\n",
    "\\%\\,of\\,missing\\,values= \\frac{num_{null}}{num_{rows}}\\\\\n",
    "\\end{align}\n",
    "$$\n",
    "where $num_{row}$ is the total number of row in this column, $num_{null}$ the number of missing values for that particular column\n",
    "\n"
   ]
  },
  {
   "cell_type": "code",
   "execution_count": 133,
   "metadata": {},
   "outputs": [
    {
     "data": {
      "text/plain": [
       "diagnosisid               0\n",
       "patientunitstayid         0\n",
       "activeupondischarge       0\n",
       "diagnosisoffset           0\n",
       "diagnosisstring           0\n",
       "icd9code               3772\n",
       "diagnosispriority         0\n",
       "dtype: int64"
      ]
     },
     "execution_count": 133,
     "metadata": {},
     "output_type": "execute_result"
    }
   ],
   "source": [
    "df.isnull().sum()"
   ]
  },
  {
   "attachments": {},
   "cell_type": "markdown",
   "metadata": {},
   "source": [
    "Get the total number of rows for dataframe object, reference [here](https://stackoverflow.com/questions/15943769/how-do-i-get-the-row-count-of-a-pandas-dataframe)\n",
    "- `len(df.index)`\n",
    "- `df.shape[0]`\n",
    "- `df[df.columns[0]].count()`\n",
    "\n",
    "For max performance, they did a quick runtime\n",
    "![](https://i.stack.imgur.com/wEzue.png)\n",
    "Let's go with the first option"
   ]
  },
  {
   "cell_type": "code",
   "execution_count": 134,
   "metadata": {},
   "outputs": [
    {
     "data": {
      "text/plain": [
       "24978"
      ]
     },
     "execution_count": 134,
     "metadata": {},
     "output_type": "execute_result"
    }
   ],
   "source": [
    "len(df.index)"
   ]
  },
  {
   "cell_type": "code",
   "execution_count": 135,
   "metadata": {},
   "outputs": [
    {
     "data": {
      "text/plain": [
       "diagnosisid             0.000000\n",
       "patientunitstayid       0.000000\n",
       "activeupondischarge     0.000000\n",
       "diagnosisoffset         0.000000\n",
       "diagnosisstring         0.000000\n",
       "icd9code               15.101289\n",
       "diagnosispriority       0.000000\n",
       "dtype: float64"
      ]
     },
     "execution_count": 135,
     "metadata": {},
     "output_type": "execute_result"
    }
   ],
   "source": [
    "df.isnull().sum()/len(df.index)*100"
   ]
  },
  {
   "cell_type": "code",
   "execution_count": 136,
   "metadata": {},
   "outputs": [
    {
     "data": {
      "text/plain": [
       "[0.0, 0.0, 0.0, 0.0, 0.0, 15.101289134438305, 0.0]"
      ]
     },
     "execution_count": 136,
     "metadata": {},
     "output_type": "execute_result"
    }
   ],
   "source": [
    "x = list(df.isnull().sum()/len(df.index)*100)\n",
    "x"
   ]
  },
  {
   "cell_type": "code",
   "execution_count": 137,
   "metadata": {},
   "outputs": [
    {
     "data": {
      "text/plain": [
       "['diagnosisid',\n",
       " 'patientunitstayid',\n",
       " 'activeupondischarge',\n",
       " 'diagnosisoffset',\n",
       " 'diagnosisstring',\n",
       " 'icd9code',\n",
       " 'diagnosispriority']"
      ]
     },
     "execution_count": 137,
     "metadata": {},
     "output_type": "execute_result"
    }
   ],
   "source": [
    "y = list(df.columns)\n",
    "y"
   ]
  },
  {
   "cell_type": "code",
   "execution_count": 138,
   "metadata": {},
   "outputs": [
    {
     "data": {
      "text/plain": [
       "Text(0.5, 0.98, '% of missing')"
      ]
     },
     "execution_count": 138,
     "metadata": {},
     "output_type": "execute_result"
    },
    {
     "data": {
      "image/png": "[encoded data removed]",
      "text/plain": [
       "<Figure size 640x480 with 1 Axes>"
      ]
     },
     "metadata": {},
     "output_type": "display_data"
    }
   ],
   "source": [
    "# added a plot for showing the percentage of missing values\n",
    "fig,ax = plt.subplots()\n",
    "ax.barh(y,x,align ='center')\n",
    "ax.invert_yaxis()\n",
    "ax.set_xlim((0,100))\n",
    "ax.xaxis.set_major_formatter(mtick.PercentFormatter())\n",
    "fig.suptitle(r\"% of missing\",fontsize = 20)"
   ]
  },
  {
   "attachments": {},
   "cell_type": "markdown",
   "metadata": {},
   "source": [
    "## Uniquiness\n",
    "This section is dedicated to test uniquesness from\n",
    "$$\n",
    "\\begin{align}\n",
    "Uniqueness = \\frac{num_{dis}-1}{num_{non-missing}-1}\n",
    "\\end{align}\n",
    "$$\n",
    "where $num_{non-missing}$ is the number of non-missing values in that column\n",
    "\n"
   ]
  },
  {
   "cell_type": "code",
   "execution_count": 139,
   "metadata": {},
   "outputs": [
    {
     "data": {
      "text/plain": [
       "diagnosisid            24978\n",
       "patientunitstayid       2155\n",
       "activeupondischarge        2\n",
       "diagnosisoffset         2661\n",
       "diagnosisstring         1091\n",
       "icd9code                 500\n",
       "diagnosispriority          3\n",
       "dtype: int64"
      ]
     },
     "execution_count": 139,
     "metadata": {},
     "output_type": "execute_result"
    }
   ],
   "source": [
    "# number of distinct values\n",
    "df.nunique()"
   ]
  },
  {
   "cell_type": "code",
   "execution_count": 140,
   "metadata": {},
   "outputs": [
    {
     "data": {
      "text/plain": [
       "diagnosisid            24978\n",
       "patientunitstayid      24978\n",
       "activeupondischarge    24978\n",
       "diagnosisoffset        24978\n",
       "diagnosisstring        24978\n",
       "icd9code               21206\n",
       "diagnosispriority      24978\n",
       "dtype: int64"
      ]
     },
     "execution_count": 140,
     "metadata": {},
     "output_type": "execute_result"
    }
   ],
   "source": [
    "# number of non-missing values\n",
    "len(df.index) - df.isnull().sum()"
   ]
  },
  {
   "cell_type": "code",
   "execution_count": 141,
   "metadata": {},
   "outputs": [
    {
     "data": {
      "text/plain": [
       "diagnosisid            100.000000\n",
       "patientunitstayid        8.623934\n",
       "activeupondischarge      0.004004\n",
       "diagnosisoffset         10.649798\n",
       "diagnosisstring          4.364015\n",
       "icd9code                 2.353219\n",
       "diagnosispriority        0.008007\n",
       "dtype: float64"
      ]
     },
     "execution_count": 141,
     "metadata": {},
     "output_type": "execute_result"
    }
   ],
   "source": [
    "uniqueness = (df.nunique() - 1)/(len(df.index) - df.isnull().sum() - 1) * 100\n",
    "uniqueness"
   ]
  },
  {
   "cell_type": "code",
   "execution_count": 142,
   "metadata": {},
   "outputs": [
    {
     "data": {
      "text/plain": [
       "Text(0.5, 0.98, 'uniquiness')"
      ]
     },
     "execution_count": 142,
     "metadata": {},
     "output_type": "execute_result"
    },
    {
     "data": {
      "image/png": "[encoded data removed]",
      "text/plain": [
       "<Figure size 640x480 with 1 Axes>"
      ]
     },
     "metadata": {},
     "output_type": "display_data"
    }
   ],
   "source": [
    "# added a plot for showing the percentage of trash\n",
    "fig,ax = plt.subplots()\n",
    "ax.barh(y,uniqueness,align ='center')\n",
    "ax.invert_yaxis()\n",
    "ax.set_xlim((0,100))\n",
    "ax.xaxis.set_major_formatter(mtick.PercentFormatter())\n",
    "fig.suptitle(r\"uniquiness\",fontsize = 20)"
   ]
  },
  {
   "attachments": {},
   "cell_type": "markdown",
   "metadata": {},
   "source": [
    "## Distribution\n",
    "Couple of steps we need to implement here\n",
    "- determine whether categorical or numerical\n",
    "- if numerical, distribution\n",
    "- if categorical, bla"
   ]
  },
  {
   "cell_type": "code",
   "execution_count": 143,
   "metadata": {},
   "outputs": [
    {
     "data": {
      "text/html": [
       "<div>\n",
       "<style scoped>\n",
       "    .dataframe tbody tr th:only-of-type {\n",
       "        vertical-align: middle;\n",
       "    }\n",
       "\n",
       "    .dataframe tbody tr th {\n",
       "        vertical-align: top;\n",
       "    }\n",
       "\n",
       "    .dataframe thead th {\n",
       "        text-align: right;\n",
       "    }\n",
       "</style>\n",
       "<table border=\"1\" class=\"dataframe\">\n",
       "  <thead>\n",
       "    <tr style=\"text-align: right;\">\n",
       "      <th></th>\n",
       "      <th>diagnosisid</th>\n",
       "      <th>patientunitstayid</th>\n",
       "      <th>activeupondischarge</th>\n",
       "      <th>diagnosisoffset</th>\n",
       "      <th>diagnosisstring</th>\n",
       "      <th>icd9code</th>\n",
       "      <th>diagnosispriority</th>\n",
       "    </tr>\n",
       "  </thead>\n",
       "  <tbody>\n",
       "    <tr>\n",
       "      <th>0</th>\n",
       "      <td>7607199</td>\n",
       "      <td>346380</td>\n",
       "      <td>False</td>\n",
       "      <td>5028</td>\n",
       "      <td>cardiovascular|ventricular disorders|hypertension</td>\n",
       "      <td>401.9, I10</td>\n",
       "      <td>Other</td>\n",
       "    </tr>\n",
       "    <tr>\n",
       "      <th>1</th>\n",
       "      <td>7570429</td>\n",
       "      <td>346380</td>\n",
       "      <td>False</td>\n",
       "      <td>685</td>\n",
       "      <td>neurologic|altered mental status / pain|change...</td>\n",
       "      <td>780.09, R41.82</td>\n",
       "      <td>Major</td>\n",
       "    </tr>\n",
       "    <tr>\n",
       "      <th>2</th>\n",
       "      <td>7705483</td>\n",
       "      <td>346380</td>\n",
       "      <td>True</td>\n",
       "      <td>5035</td>\n",
       "      <td>cardiovascular|shock / hypotension|hypotension</td>\n",
       "      <td>458.9, I95.9</td>\n",
       "      <td>Major</td>\n",
       "    </tr>\n",
       "    <tr>\n",
       "      <th>3</th>\n",
       "      <td>7848601</td>\n",
       "      <td>346380</td>\n",
       "      <td>True</td>\n",
       "      <td>5035</td>\n",
       "      <td>neurologic|altered mental status / pain|schizo...</td>\n",
       "      <td>295.90, F20.9</td>\n",
       "      <td>Major</td>\n",
       "    </tr>\n",
       "    <tr>\n",
       "      <th>4</th>\n",
       "      <td>7451475</td>\n",
       "      <td>346380</td>\n",
       "      <td>False</td>\n",
       "      <td>5028</td>\n",
       "      <td>pulmonary|disorders of vasculature|pulmonary e...</td>\n",
       "      <td>415.19, I26.99</td>\n",
       "      <td>Major</td>\n",
       "    </tr>\n",
       "  </tbody>\n",
       "</table>\n",
       "</div>"
      ],
      "text/plain": [
       "   diagnosisid  patientunitstayid  activeupondischarge  diagnosisoffset  \\\n",
       "0      7607199             346380                False             5028   \n",
       "1      7570429             346380                False              685   \n",
       "2      7705483             346380                 True             5035   \n",
       "3      7848601             346380                 True             5035   \n",
       "4      7451475             346380                False             5028   \n",
       "\n",
       "                                     diagnosisstring        icd9code  \\\n",
       "0  cardiovascular|ventricular disorders|hypertension      401.9, I10   \n",
       "1  neurologic|altered mental status / pain|change...  780.09, R41.82   \n",
       "2     cardiovascular|shock / hypotension|hypotension    458.9, I95.9   \n",
       "3  neurologic|altered mental status / pain|schizo...   295.90, F20.9   \n",
       "4  pulmonary|disorders of vasculature|pulmonary e...  415.19, I26.99   \n",
       "\n",
       "  diagnosispriority  \n",
       "0             Other  \n",
       "1             Major  \n",
       "2             Major  \n",
       "3             Major  \n",
       "4             Major  "
      ]
     },
     "execution_count": 143,
     "metadata": {},
     "output_type": "execute_result"
    }
   ],
   "source": [
    "df.head()"
   ]
  },
  {
   "cell_type": "code",
   "execution_count": 144,
   "metadata": {},
   "outputs": [
    {
     "data": {
      "text/plain": [
       "diagnosisid             int64\n",
       "patientunitstayid       int64\n",
       "activeupondischarge      bool\n",
       "diagnosisoffset         int64\n",
       "diagnosisstring        object\n",
       "icd9code               object\n",
       "diagnosispriority      object\n",
       "dtype: object"
      ]
     },
     "execution_count": 144,
     "metadata": {},
     "output_type": "execute_result"
    }
   ],
   "source": [
    "df.dtypes"
   ]
  },
  {
   "attachments": {},
   "cell_type": "markdown",
   "metadata": {},
   "source": [
    "Some rule of thumbs are:\n",
    "|data type|stat type|\n",
    "|-|-|\n",
    "|int64,float64|numerical|\n",
    "|object|categorical|\n",
    "|bool|categorical, but binary|\n",
    "\n",
    "Then we need to design a function based on whether it's categorical or numerical"
   ]
  },
  {
   "cell_type": "code",
   "execution_count": 145,
   "metadata": {},
   "outputs": [
    {
     "name": "stdout",
     "output_type": "stream",
     "text": [
      "int64\n",
      "int64\n",
      "bool\n",
      "int64\n",
      "object\n",
      "object\n",
      "object\n",
      "['diagnosisid', 'patientunitstayid', 'diagnosisoffset']\n",
      "['activeupondischarge', 'diagnosisstring', 'icd9code', 'diagnosispriority']\n"
     ]
    }
   ],
   "source": [
    "def get_num_cat_dtype(input_df):\n",
    "    \"\"\"\n",
    "    return the dtype \n",
    "    Args:\n",
    "        input_df (pandas dataframe): dataframe you wish to determine \n",
    "        whether it's cateogircal or numerical\n",
    "\n",
    "    Returns:\n",
    "        numerical_col (list): \n",
    "        categorical_col (list): \n",
    "    Note:\n",
    "        is implemented with selected_dtypes better? revisit later\n",
    "    \"\"\"\n",
    "    numerical_col = []\n",
    "    categorical_col = []\n",
    "    \n",
    "    for col in input_df.columns:\n",
    "        curr_type = input_df[col].dtype\n",
    "        if curr_type in [\"object\",\"bool\"]:\n",
    "            categorical_col.append(col)\n",
    "        else:\n",
    "            numerical_col.append(col)\n",
    "        print(curr_type)\n",
    "        \n",
    "    return numerical_col, categorical_col\n",
    "    \n",
    "numerical_columns,cate_columns = get_num_cat_dtype(df)\n",
    "print(numerical_columns)\n",
    "print(cate_columns)\n",
    "    "
   ]
  },
  {
   "attachments": {},
   "cell_type": "markdown",
   "metadata": {},
   "source": [
    "Now we need to write some functions to determine the maximum and minimum of the whole list"
   ]
  },
  {
   "cell_type": "code",
   "execution_count": 146,
   "metadata": {},
   "outputs": [
    {
     "data": {
      "text/html": [
       "<div>\n",
       "<style scoped>\n",
       "    .dataframe tbody tr th:only-of-type {\n",
       "        vertical-align: middle;\n",
       "    }\n",
       "\n",
       "    .dataframe tbody tr th {\n",
       "        vertical-align: top;\n",
       "    }\n",
       "\n",
       "    .dataframe thead th {\n",
       "        text-align: right;\n",
       "    }\n",
       "</style>\n",
       "<table border=\"1\" class=\"dataframe\">\n",
       "  <thead>\n",
       "    <tr style=\"text-align: right;\">\n",
       "      <th></th>\n",
       "      <th>diagnosisid</th>\n",
       "      <th>patientunitstayid</th>\n",
       "      <th>activeupondischarge</th>\n",
       "      <th>diagnosisoffset</th>\n",
       "      <th>diagnosisstring</th>\n",
       "      <th>icd9code</th>\n",
       "      <th>diagnosispriority</th>\n",
       "    </tr>\n",
       "  </thead>\n",
       "  <tbody>\n",
       "    <tr>\n",
       "      <th>0</th>\n",
       "      <td>7607199</td>\n",
       "      <td>346380</td>\n",
       "      <td>False</td>\n",
       "      <td>5028</td>\n",
       "      <td>cardiovascular|ventricular disorders|hypertension</td>\n",
       "      <td>401.9, I10</td>\n",
       "      <td>Other</td>\n",
       "    </tr>\n",
       "    <tr>\n",
       "      <th>1</th>\n",
       "      <td>7570429</td>\n",
       "      <td>346380</td>\n",
       "      <td>False</td>\n",
       "      <td>685</td>\n",
       "      <td>neurologic|altered mental status / pain|change...</td>\n",
       "      <td>780.09, R41.82</td>\n",
       "      <td>Major</td>\n",
       "    </tr>\n",
       "    <tr>\n",
       "      <th>2</th>\n",
       "      <td>7705483</td>\n",
       "      <td>346380</td>\n",
       "      <td>True</td>\n",
       "      <td>5035</td>\n",
       "      <td>cardiovascular|shock / hypotension|hypotension</td>\n",
       "      <td>458.9, I95.9</td>\n",
       "      <td>Major</td>\n",
       "    </tr>\n",
       "    <tr>\n",
       "      <th>3</th>\n",
       "      <td>7848601</td>\n",
       "      <td>346380</td>\n",
       "      <td>True</td>\n",
       "      <td>5035</td>\n",
       "      <td>neurologic|altered mental status / pain|schizo...</td>\n",
       "      <td>295.90, F20.9</td>\n",
       "      <td>Major</td>\n",
       "    </tr>\n",
       "    <tr>\n",
       "      <th>4</th>\n",
       "      <td>7451475</td>\n",
       "      <td>346380</td>\n",
       "      <td>False</td>\n",
       "      <td>5028</td>\n",
       "      <td>pulmonary|disorders of vasculature|pulmonary e...</td>\n",
       "      <td>415.19, I26.99</td>\n",
       "      <td>Major</td>\n",
       "    </tr>\n",
       "  </tbody>\n",
       "</table>\n",
       "</div>"
      ],
      "text/plain": [
       "   diagnosisid  patientunitstayid  activeupondischarge  diagnosisoffset  \\\n",
       "0      7607199             346380                False             5028   \n",
       "1      7570429             346380                False              685   \n",
       "2      7705483             346380                 True             5035   \n",
       "3      7848601             346380                 True             5035   \n",
       "4      7451475             346380                False             5028   \n",
       "\n",
       "                                     diagnosisstring        icd9code  \\\n",
       "0  cardiovascular|ventricular disorders|hypertension      401.9, I10   \n",
       "1  neurologic|altered mental status / pain|change...  780.09, R41.82   \n",
       "2     cardiovascular|shock / hypotension|hypotension    458.9, I95.9   \n",
       "3  neurologic|altered mental status / pain|schizo...   295.90, F20.9   \n",
       "4  pulmonary|disorders of vasculature|pulmonary e...  415.19, I26.99   \n",
       "\n",
       "  diagnosispriority  \n",
       "0             Other  \n",
       "1             Major  \n",
       "2             Major  \n",
       "3             Major  \n",
       "4             Major  "
      ]
     },
     "execution_count": 146,
     "metadata": {},
     "output_type": "execute_result"
    }
   ],
   "source": [
    "df.head()"
   ]
  },
  {
   "cell_type": "code",
   "execution_count": 147,
   "metadata": {},
   "outputs": [
    {
     "data": {
      "text/plain": [
       "{'activeupondischarge': {'min': 4, 'max': 5},\n",
       " 'diagnosisstring': {'min': 24, 'max': 146},\n",
       " 'icd9code': {'min': 3, 'max': 35},\n",
       " 'diagnosispriority': {'min': 5, 'max': 7}}"
      ]
     },
     "execution_count": 147,
     "metadata": {},
     "output_type": "execute_result"
    }
   ],
   "source": [
    "\n",
    "def get_categorical_distribution(input_df,cat_col_list):\n",
    "    \"\"\"\n",
    "\n",
    "    Args:\n",
    "        input_df (_type_): _description_\n",
    "        cat_list (_type_): a list of categorical distribution\n",
    "    \"\"\"\n",
    "    res = {}\n",
    "    \n",
    "    for col in cat_col_list:\n",
    "        res[col] = {\"min\":input_df[col].apply(str).apply(len).min(),\n",
    "                    \"max\":input_df[col].apply(str).apply(len).max()}\n",
    "        \n",
    "\n",
    "    return res\n",
    "        \n",
    "\n",
    "cat_plot = get_categorical_distribution(df,cate_columns)\n",
    "cat_plot\n",
    "\n"
   ]
  },
  {
   "cell_type": "code",
   "execution_count": 148,
   "metadata": {},
   "outputs": [
    {
     "data": {
      "text/html": [
       "<div>\n",
       "<style scoped>\n",
       "    .dataframe tbody tr th:only-of-type {\n",
       "        vertical-align: middle;\n",
       "    }\n",
       "\n",
       "    .dataframe tbody tr th {\n",
       "        vertical-align: top;\n",
       "    }\n",
       "\n",
       "    .dataframe thead th {\n",
       "        text-align: right;\n",
       "    }\n",
       "</style>\n",
       "<table border=\"1\" class=\"dataframe\">\n",
       "  <thead>\n",
       "    <tr style=\"text-align: right;\">\n",
       "      <th></th>\n",
       "      <th>activeupondischarge</th>\n",
       "      <th>diagnosisstring</th>\n",
       "      <th>icd9code</th>\n",
       "      <th>diagnosispriority</th>\n",
       "    </tr>\n",
       "  </thead>\n",
       "  <tbody>\n",
       "    <tr>\n",
       "      <th>0</th>\n",
       "      <td>5</td>\n",
       "      <td>49</td>\n",
       "      <td>10</td>\n",
       "      <td>5</td>\n",
       "    </tr>\n",
       "    <tr>\n",
       "      <th>1</th>\n",
       "      <td>5</td>\n",
       "      <td>63</td>\n",
       "      <td>14</td>\n",
       "      <td>5</td>\n",
       "    </tr>\n",
       "    <tr>\n",
       "      <th>2</th>\n",
       "      <td>4</td>\n",
       "      <td>46</td>\n",
       "      <td>12</td>\n",
       "      <td>5</td>\n",
       "    </tr>\n",
       "    <tr>\n",
       "      <th>3</th>\n",
       "      <td>4</td>\n",
       "      <td>53</td>\n",
       "      <td>13</td>\n",
       "      <td>5</td>\n",
       "    </tr>\n",
       "    <tr>\n",
       "      <th>4</th>\n",
       "      <td>5</td>\n",
       "      <td>62</td>\n",
       "      <td>14</td>\n",
       "      <td>5</td>\n",
       "    </tr>\n",
       "    <tr>\n",
       "      <th>...</th>\n",
       "      <td>...</td>\n",
       "      <td>...</td>\n",
       "      <td>...</td>\n",
       "      <td>...</td>\n",
       "    </tr>\n",
       "    <tr>\n",
       "      <th>24973</th>\n",
       "      <td>4</td>\n",
       "      <td>64</td>\n",
       "      <td>14</td>\n",
       "      <td>5</td>\n",
       "    </tr>\n",
       "    <tr>\n",
       "      <th>24974</th>\n",
       "      <td>4</td>\n",
       "      <td>50</td>\n",
       "      <td>14</td>\n",
       "      <td>5</td>\n",
       "    </tr>\n",
       "    <tr>\n",
       "      <th>24975</th>\n",
       "      <td>4</td>\n",
       "      <td>71</td>\n",
       "      <td>12</td>\n",
       "      <td>5</td>\n",
       "    </tr>\n",
       "    <tr>\n",
       "      <th>24976</th>\n",
       "      <td>4</td>\n",
       "      <td>48</td>\n",
       "      <td>10</td>\n",
       "      <td>5</td>\n",
       "    </tr>\n",
       "    <tr>\n",
       "      <th>24977</th>\n",
       "      <td>4</td>\n",
       "      <td>104</td>\n",
       "      <td>13</td>\n",
       "      <td>7</td>\n",
       "    </tr>\n",
       "  </tbody>\n",
       "</table>\n",
       "<p>24978 rows × 4 columns</p>\n",
       "</div>"
      ],
      "text/plain": [
       "       activeupondischarge  diagnosisstring  icd9code  diagnosispriority\n",
       "0                        5               49        10                  5\n",
       "1                        5               63        14                  5\n",
       "2                        4               46        12                  5\n",
       "3                        4               53        13                  5\n",
       "4                        5               62        14                  5\n",
       "...                    ...              ...       ...                ...\n",
       "24973                    4               64        14                  5\n",
       "24974                    4               50        14                  5\n",
       "24975                    4               71        12                  5\n",
       "24976                    4               48        10                  5\n",
       "24977                    4              104        13                  7\n",
       "\n",
       "[24978 rows x 4 columns]"
      ]
     },
     "execution_count": 148,
     "metadata": {},
     "output_type": "execute_result"
    }
   ],
   "source": [
    "test = df['diagnosispriority'].apply(str).apply(len)\n",
    "\n",
    "df[cate_columns].applymap(str).applymap(len)\n"
   ]
  },
  {
   "cell_type": "code",
   "execution_count": 149,
   "metadata": {},
   "outputs": [
    {
     "data": {
      "text/plain": [
       "Text(0.5, 1.0, 'categorical distribution')"
      ]
     },
     "execution_count": 149,
     "metadata": {},
     "output_type": "execute_result"
    },
    {
     "data": {
      "image/png": "[encoded data removed]",
      "text/plain": [
       "<Figure size 640x480 with 1 Axes>"
      ]
     },
     "metadata": {},
     "output_type": "display_data"
    }
   ],
   "source": [
    "fig,ax = plt.subplots()\n",
    "ax.boxplot(df[cate_columns].applymap(str).applymap(len),\\\n",
    "            vert = 0,\\\n",
    "            showfliers=False,\\\n",
    "            labels=cate_columns)\n",
    "\n",
    "ax.set_xlabel(\"string length\")\n",
    "ax.set_title(\"categorical distribution\")\n"
   ]
  },
  {
   "attachments": {},
   "cell_type": "markdown",
   "metadata": {},
   "source": [
    "Similarly, we do it for numerical variables, since you might have multiscale data set like:\n",
    "- `age`: 0-140\n",
    "- `yearly salary`: 60000ish\n",
    "- `# of cells in your body`: lots lots\n",
    "\n",
    "Therefore, we need a way to \n"
   ]
  },
  {
   "cell_type": "code",
   "execution_count": 150,
   "metadata": {},
   "outputs": [
    {
     "data": {
      "text/plain": [
       "Text(0.5, 1.0, 'numerical distribution')"
      ]
     },
     "execution_count": 150,
     "metadata": {},
     "output_type": "execute_result"
    },
    {
     "data": {
      "image/png": "[encoded data removed]",
      "text/plain": [
       "<Figure size 640x480 with 1 Axes>"
      ]
     },
     "metadata": {},
     "output_type": "display_data"
    }
   ],
   "source": [
    "fig,ax = plt.subplots()\n",
    "ax.boxplot(df[numerical_columns]/df[numerical_columns].max()*100,\\\n",
    "            vert = 0,\\\n",
    "            showfliers=False,\\\n",
    "            labels=numerical_columns)\n",
    "\n",
    "ax.set_xlabel(\"value distrution\")\n",
    "ax.set_title(\"numerical distribution\")"
   ]
  },
  {
   "cell_type": "code",
   "execution_count": 151,
   "metadata": {},
   "outputs": [
    {
     "data": {
      "text/plain": [
       "7"
      ]
     },
     "execution_count": 151,
     "metadata": {},
     "output_type": "execute_result"
    }
   ],
   "source": [
    "len(df.columns)"
   ]
  },
  {
   "cell_type": "code",
   "execution_count": 152,
   "metadata": {},
   "outputs": [
    {
     "data": {
      "text/html": [
       "<div>\n",
       "<style scoped>\n",
       "    .dataframe tbody tr th:only-of-type {\n",
       "        vertical-align: middle;\n",
       "    }\n",
       "\n",
       "    .dataframe tbody tr th {\n",
       "        vertical-align: top;\n",
       "    }\n",
       "\n",
       "    .dataframe thead th {\n",
       "        text-align: right;\n",
       "    }\n",
       "</style>\n",
       "<table border=\"1\" class=\"dataframe\">\n",
       "  <thead>\n",
       "    <tr style=\"text-align: right;\">\n",
       "      <th></th>\n",
       "      <th>diagnosisid</th>\n",
       "      <th>patientunitstayid</th>\n",
       "      <th>activeupondischarge</th>\n",
       "      <th>diagnosisoffset</th>\n",
       "      <th>diagnosisstring</th>\n",
       "      <th>icd9code</th>\n",
       "      <th>diagnosispriority</th>\n",
       "    </tr>\n",
       "  </thead>\n",
       "  <tbody>\n",
       "    <tr>\n",
       "      <th>0</th>\n",
       "      <td>7607199</td>\n",
       "      <td>346380</td>\n",
       "      <td>False</td>\n",
       "      <td>5028</td>\n",
       "      <td>cardiovascular|ventricular disorders|hypertension</td>\n",
       "      <td>401.9, I10</td>\n",
       "      <td>Other</td>\n",
       "    </tr>\n",
       "    <tr>\n",
       "      <th>1</th>\n",
       "      <td>7570429</td>\n",
       "      <td>346380</td>\n",
       "      <td>False</td>\n",
       "      <td>685</td>\n",
       "      <td>neurologic|altered mental status / pain|change...</td>\n",
       "      <td>780.09, R41.82</td>\n",
       "      <td>Major</td>\n",
       "    </tr>\n",
       "    <tr>\n",
       "      <th>2</th>\n",
       "      <td>7705483</td>\n",
       "      <td>346380</td>\n",
       "      <td>True</td>\n",
       "      <td>5035</td>\n",
       "      <td>cardiovascular|shock / hypotension|hypotension</td>\n",
       "      <td>458.9, I95.9</td>\n",
       "      <td>Major</td>\n",
       "    </tr>\n",
       "    <tr>\n",
       "      <th>3</th>\n",
       "      <td>7848601</td>\n",
       "      <td>346380</td>\n",
       "      <td>True</td>\n",
       "      <td>5035</td>\n",
       "      <td>neurologic|altered mental status / pain|schizo...</td>\n",
       "      <td>295.90, F20.9</td>\n",
       "      <td>Major</td>\n",
       "    </tr>\n",
       "    <tr>\n",
       "      <th>4</th>\n",
       "      <td>7451475</td>\n",
       "      <td>346380</td>\n",
       "      <td>False</td>\n",
       "      <td>5028</td>\n",
       "      <td>pulmonary|disorders of vasculature|pulmonary e...</td>\n",
       "      <td>415.19, I26.99</td>\n",
       "      <td>Major</td>\n",
       "    </tr>\n",
       "  </tbody>\n",
       "</table>\n",
       "</div>"
      ],
      "text/plain": [
       "   diagnosisid  patientunitstayid  activeupondischarge  diagnosisoffset  \\\n",
       "0      7607199             346380                False             5028   \n",
       "1      7570429             346380                False              685   \n",
       "2      7705483             346380                 True             5035   \n",
       "3      7848601             346380                 True             5035   \n",
       "4      7451475             346380                False             5028   \n",
       "\n",
       "                                     diagnosisstring        icd9code  \\\n",
       "0  cardiovascular|ventricular disorders|hypertension      401.9, I10   \n",
       "1  neurologic|altered mental status / pain|change...  780.09, R41.82   \n",
       "2     cardiovascular|shock / hypotension|hypotension    458.9, I95.9   \n",
       "3  neurologic|altered mental status / pain|schizo...   295.90, F20.9   \n",
       "4  pulmonary|disorders of vasculature|pulmonary e...  415.19, I26.99   \n",
       "\n",
       "  diagnosispriority  \n",
       "0             Other  \n",
       "1             Major  \n",
       "2             Major  \n",
       "3             Major  \n",
       "4             Major  "
      ]
     },
     "execution_count": 152,
     "metadata": {},
     "output_type": "execute_result"
    }
   ],
   "source": [
    "df.head()"
   ]
  },
  {
   "attachments": {},
   "cell_type": "markdown",
   "metadata": {},
   "source": [
    "## Pattern\n",
    "\n",
    "In this section, i need to determine if it contains certain pattern or not? For the simplicity of the project, I am just going to list:\n",
    "- contains digits 0-9\n",
    "- contains lower a-z\n",
    "- contains upper A-Z"
   ]
  },
  {
   "cell_type": "code",
   "execution_count": 153,
   "metadata": {},
   "outputs": [
    {
     "data": {
      "text/plain": [
       "diagnosisid             True\n",
       "patientunitstayid       True\n",
       "activeupondischarge    False\n",
       "diagnosisoffset         True\n",
       "diagnosisstring         True\n",
       "icd9code                True\n",
       "diagnosispriority      False\n",
       "dtype: bool"
      ]
     },
     "execution_count": 153,
     "metadata": {},
     "output_type": "execute_result"
    }
   ],
   "source": [
    "contains_digit = lambda x: any([char.isdigit() for char in x])\n",
    "contains_lower = lambda x: any([char.islower() for char in x])\n",
    "contains_upper = lambda x: any([char.isupper() for char in x])\n",
    "\n",
    "df1 = df.applymap(str).applymap(contains_digit).apply(any)\n",
    "df1\n"
   ]
  },
  {
   "cell_type": "code",
   "execution_count": 154,
   "metadata": {},
   "outputs": [
    {
     "data": {
      "text/plain": [
       "diagnosisid            False\n",
       "patientunitstayid      False\n",
       "activeupondischarge     True\n",
       "diagnosisoffset        False\n",
       "diagnosisstring         True\n",
       "icd9code                True\n",
       "diagnosispriority       True\n",
       "dtype: bool"
      ]
     },
     "execution_count": 154,
     "metadata": {},
     "output_type": "execute_result"
    }
   ],
   "source": [
    "df2 = df.applymap(str).applymap(contains_lower).apply(any)\n",
    "df2\n"
   ]
  },
  {
   "cell_type": "code",
   "execution_count": 155,
   "metadata": {},
   "outputs": [
    {
     "data": {
      "text/plain": [
       "diagnosisid            False\n",
       "patientunitstayid      False\n",
       "activeupondischarge     True\n",
       "diagnosisoffset        False\n",
       "diagnosisstring         True\n",
       "icd9code                True\n",
       "diagnosispriority       True\n",
       "dtype: bool"
      ]
     },
     "execution_count": 155,
     "metadata": {},
     "output_type": "execute_result"
    }
   ],
   "source": [
    "df3 = df.applymap(str).applymap(contains_upper).apply(any)\n",
    "df3"
   ]
  },
  {
   "cell_type": "code",
   "execution_count": 156,
   "metadata": {},
   "outputs": [
    {
     "data": {
      "text/html": [
       "<div>\n",
       "<style scoped>\n",
       "    .dataframe tbody tr th:only-of-type {\n",
       "        vertical-align: middle;\n",
       "    }\n",
       "\n",
       "    .dataframe tbody tr th {\n",
       "        vertical-align: top;\n",
       "    }\n",
       "\n",
       "    .dataframe thead th {\n",
       "        text-align: right;\n",
       "    }\n",
       "</style>\n",
       "<table border=\"1\" class=\"dataframe\">\n",
       "  <thead>\n",
       "    <tr style=\"text-align: right;\">\n",
       "      <th></th>\n",
       "      <th>0</th>\n",
       "      <th>a</th>\n",
       "      <th>A</th>\n",
       "    </tr>\n",
       "  </thead>\n",
       "  <tbody>\n",
       "    <tr>\n",
       "      <th>diagnosisid</th>\n",
       "      <td>True</td>\n",
       "      <td>False</td>\n",
       "      <td>False</td>\n",
       "    </tr>\n",
       "    <tr>\n",
       "      <th>patientunitstayid</th>\n",
       "      <td>True</td>\n",
       "      <td>False</td>\n",
       "      <td>False</td>\n",
       "    </tr>\n",
       "    <tr>\n",
       "      <th>activeupondischarge</th>\n",
       "      <td>False</td>\n",
       "      <td>True</td>\n",
       "      <td>True</td>\n",
       "    </tr>\n",
       "    <tr>\n",
       "      <th>diagnosisoffset</th>\n",
       "      <td>True</td>\n",
       "      <td>False</td>\n",
       "      <td>False</td>\n",
       "    </tr>\n",
       "    <tr>\n",
       "      <th>diagnosisstring</th>\n",
       "      <td>True</td>\n",
       "      <td>True</td>\n",
       "      <td>True</td>\n",
       "    </tr>\n",
       "    <tr>\n",
       "      <th>icd9code</th>\n",
       "      <td>True</td>\n",
       "      <td>True</td>\n",
       "      <td>True</td>\n",
       "    </tr>\n",
       "    <tr>\n",
       "      <th>diagnosispriority</th>\n",
       "      <td>False</td>\n",
       "      <td>True</td>\n",
       "      <td>True</td>\n",
       "    </tr>\n",
       "  </tbody>\n",
       "</table>\n",
       "</div>"
      ],
      "text/plain": [
       "                         0      a      A\n",
       "diagnosisid           True  False  False\n",
       "patientunitstayid     True  False  False\n",
       "activeupondischarge  False   True   True\n",
       "diagnosisoffset       True  False  False\n",
       "diagnosisstring       True   True   True\n",
       "icd9code              True   True   True\n",
       "diagnosispriority    False   True   True"
      ]
     },
     "execution_count": 156,
     "metadata": {},
     "output_type": "execute_result"
    }
   ],
   "source": [
    "df4 = pd.concat([df1,df2,df3],axis=1).rename(columns={0: \"0\", 1: \"a\", 2: \"A\"})\n",
    "df4"
   ]
  },
  {
   "attachments": {},
   "cell_type": "markdown",
   "metadata": {},
   "source": [
    "Now we need to design a function to show this 2D boolean array"
   ]
  },
  {
   "cell_type": "code",
   "execution_count": 157,
   "metadata": {},
   "outputs": [],
   "source": [
    "def get_pattern(input_df):\n",
    "    \"\"\"\n",
    "    find the patterns for this this dataset\n",
    "    Args:\n",
    "        input_df (_type_): _description_\n",
    "\n",
    "    Returns:\n",
    "        _type_: _description_\n",
    "    \"\"\"\n",
    "    # define your local methods\n",
    "    contains_digit = lambda x: any([char.isdigit() for char in x])\n",
    "    contains_lower = lambda x: any([char.islower() for char in x])\n",
    "    contains_upper = lambda x: any([char.isupper() for char in x])\n",
    "\n",
    "    methods_list = [contains_digit,contains_lower,contains_upper]\n",
    "    \n",
    "    res = pd.DataFrame()\n",
    "    \n",
    "    for i in range(3):\n",
    "        temp = df.applymap(str).applymap(methods_list[i]).apply(any)\n",
    "        res = pd.concat([res,temp],axis=1)\n",
    "\n",
    "    # rename the columns    \n",
    "    res.set_axis([\"0\",\"a\",\"A\"],axis=1,copy=False)\n",
    "    \n",
    "    return res\n",
    "\n",
    "df_pattern = get_pattern(df)"
   ]
  },
  {
   "attachments": {},
   "cell_type": "markdown",
   "metadata": {},
   "source": [
    "Now we visualize it, [reference here](https://matplotlib.org/stable/gallery/images_contours_and_fields/image_annotated_heatmap.html)"
   ]
  },
  {
   "cell_type": "code",
   "execution_count": 158,
   "metadata": {},
   "outputs": [
    {
     "data": {
      "image/png": "[encoded data removed]",
      "text/plain": [
       "<Figure size 640x480 with 1 Axes>"
      ]
     },
     "metadata": {},
     "output_type": "display_data"
    }
   ],
   "source": [
    "fig,ax = plt.subplots()\n",
    "ax.imshow(df_pattern,cmap=\"Greys\")\n",
    "\n",
    "ax.set_xticks([i for i in range(len(df_pattern.columns))],df_pattern.columns)\n",
    "ax.set_yticks([i for i in range(len(df_pattern.index))],df_pattern.index)\n",
    "\n",
    "ax.xaxis.tick_top()\n",
    "ax.set_title(\"dataset patterns\")\n",
    "fig.tight_layout()"
   ]
  },
  {
   "cell_type": "code",
   "execution_count": 159,
   "metadata": {},
   "outputs": [
    {
     "data": {
      "text/html": [
       "<div>\n",
       "<style scoped>\n",
       "    .dataframe tbody tr th:only-of-type {\n",
       "        vertical-align: middle;\n",
       "    }\n",
       "\n",
       "    .dataframe tbody tr th {\n",
       "        vertical-align: top;\n",
       "    }\n",
       "\n",
       "    .dataframe thead th {\n",
       "        text-align: right;\n",
       "    }\n",
       "</style>\n",
       "<table border=\"1\" class=\"dataframe\">\n",
       "  <thead>\n",
       "    <tr style=\"text-align: right;\">\n",
       "      <th></th>\n",
       "      <th>diagnosisid</th>\n",
       "      <th>patientunitstayid</th>\n",
       "      <th>activeupondischarge</th>\n",
       "      <th>diagnosisoffset</th>\n",
       "      <th>diagnosisstring</th>\n",
       "      <th>icd9code</th>\n",
       "      <th>diagnosispriority</th>\n",
       "    </tr>\n",
       "  </thead>\n",
       "  <tbody>\n",
       "    <tr>\n",
       "      <th>0</th>\n",
       "      <td>7607199</td>\n",
       "      <td>346380</td>\n",
       "      <td>False</td>\n",
       "      <td>5028</td>\n",
       "      <td>cardiovascular|ventricular disorders|hypertension</td>\n",
       "      <td>401.9, I10</td>\n",
       "      <td>Other</td>\n",
       "    </tr>\n",
       "    <tr>\n",
       "      <th>1</th>\n",
       "      <td>7570429</td>\n",
       "      <td>346380</td>\n",
       "      <td>False</td>\n",
       "      <td>685</td>\n",
       "      <td>neurologic|altered mental status / pain|change...</td>\n",
       "      <td>780.09, R41.82</td>\n",
       "      <td>Major</td>\n",
       "    </tr>\n",
       "    <tr>\n",
       "      <th>2</th>\n",
       "      <td>7705483</td>\n",
       "      <td>346380</td>\n",
       "      <td>True</td>\n",
       "      <td>5035</td>\n",
       "      <td>cardiovascular|shock / hypotension|hypotension</td>\n",
       "      <td>458.9, I95.9</td>\n",
       "      <td>Major</td>\n",
       "    </tr>\n",
       "    <tr>\n",
       "      <th>3</th>\n",
       "      <td>7848601</td>\n",
       "      <td>346380</td>\n",
       "      <td>True</td>\n",
       "      <td>5035</td>\n",
       "      <td>neurologic|altered mental status / pain|schizo...</td>\n",
       "      <td>295.90, F20.9</td>\n",
       "      <td>Major</td>\n",
       "    </tr>\n",
       "    <tr>\n",
       "      <th>4</th>\n",
       "      <td>7451475</td>\n",
       "      <td>346380</td>\n",
       "      <td>False</td>\n",
       "      <td>5028</td>\n",
       "      <td>pulmonary|disorders of vasculature|pulmonary e...</td>\n",
       "      <td>415.19, I26.99</td>\n",
       "      <td>Major</td>\n",
       "    </tr>\n",
       "  </tbody>\n",
       "</table>\n",
       "</div>"
      ],
      "text/plain": [
       "   diagnosisid  patientunitstayid  activeupondischarge  diagnosisoffset  \\\n",
       "0      7607199             346380                False             5028   \n",
       "1      7570429             346380                False              685   \n",
       "2      7705483             346380                 True             5035   \n",
       "3      7848601             346380                 True             5035   \n",
       "4      7451475             346380                False             5028   \n",
       "\n",
       "                                     diagnosisstring        icd9code  \\\n",
       "0  cardiovascular|ventricular disorders|hypertension      401.9, I10   \n",
       "1  neurologic|altered mental status / pain|change...  780.09, R41.82   \n",
       "2     cardiovascular|shock / hypotension|hypotension    458.9, I95.9   \n",
       "3  neurologic|altered mental status / pain|schizo...   295.90, F20.9   \n",
       "4  pulmonary|disorders of vasculature|pulmonary e...  415.19, I26.99   \n",
       "\n",
       "  diagnosispriority  \n",
       "0             Other  \n",
       "1             Major  \n",
       "2             Major  \n",
       "3             Major  \n",
       "4             Major  "
      ]
     },
     "execution_count": 159,
     "metadata": {},
     "output_type": "execute_result"
    }
   ],
   "source": [
    "df.head()"
   ]
  },
  {
   "cell_type": "code",
   "execution_count": null,
   "metadata": {},
   "outputs": [],
   "source": []
  }
 ],
 "metadata": {
  "kernelspec": {
   "display_name": "EHR_data_profiling",
   "language": "python",
   "name": "python3"
  },
  "language_info": {
   "codemirror_mode": {
    "name": "ipython",
    "version": 3
   },
   "file_extension": ".py",
   "mimetype": "text/x-python",
   "name": "python",
   "nbconvert_exporter": "python",
   "pygments_lexer": "ipython3",
   "version": "3.11.2"
  },
  "orig_nbformat": 4
 },
 "nbformat": 4,
 "nbformat_minor": 2
}
