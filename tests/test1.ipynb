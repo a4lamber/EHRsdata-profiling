{
 "cells": [
  {
   "attachments": {},
   "cell_type": "markdown",
   "metadata": {},
   "source": [
    "# Testing scripts\n",
    "\n",
    "This script is to test the functionality of data profiling."
   ]
  },
  {
   "cell_type": "code",
   "execution_count": 64,
   "metadata": {},
   "outputs": [],
   "source": [
    "import pandas as pd\n",
    "import os\n",
    "import pathlib\n",
    "import matplotlib.pyplot as plt\n",
    "import matplotlib.ticker as mtick"
   ]
  },
  {
   "attachments": {},
   "cell_type": "markdown",
   "metadata": {},
   "source": [
    "Find a way to recursively list all the files mathcing the csv file format."
   ]
  },
  {
   "cell_type": "code",
   "execution_count": 43,
   "metadata": {},
   "outputs": [
    {
     "data": {
      "text/plain": [
       "[PosixPath('../rawdata/eicu-crd-demo/2.0.1/diagnosis.csv.gz'),\n",
       " PosixPath('../rawdata/eicu-crd-demo/2.0.1/vitalAperiodic.csv.gz'),\n",
       " PosixPath('../rawdata/eicu-crd-demo/2.0.1/admissionDx.csv.gz'),\n",
       " PosixPath('../rawdata/eicu-crd-demo/2.0.1/respiratoryCare.csv.gz'),\n",
       " PosixPath('../rawdata/eicu-crd-demo/2.0.1/nurseAssessment.csv.gz'),\n",
       " PosixPath('../rawdata/eicu-crd-demo/2.0.1/hospital.csv.gz'),\n",
       " PosixPath('../rawdata/eicu-crd-demo/2.0.1/vitalPeriodic.csv.gz'),\n",
       " PosixPath('../rawdata/eicu-crd-demo/2.0.1/carePlanGeneral.csv.gz'),\n",
       " PosixPath('../rawdata/eicu-crd-demo/2.0.1/patient.csv.gz'),\n",
       " PosixPath('../rawdata/eicu-crd-demo/2.0.1/carePlanGoal.csv.gz'),\n",
       " PosixPath('../rawdata/eicu-crd-demo/2.0.1/treatment.csv.gz'),\n",
       " PosixPath('../rawdata/eicu-crd-demo/2.0.1/apacheApsVar.csv.gz'),\n",
       " PosixPath('../rawdata/eicu-crd-demo/2.0.1/carePlanEOL.csv.gz'),\n",
       " PosixPath('../rawdata/eicu-crd-demo/2.0.1/infusiondrug.csv.gz'),\n",
       " PosixPath('../rawdata/eicu-crd-demo/2.0.1/carePlanCareProvider.csv.gz'),\n",
       " PosixPath('../rawdata/eicu-crd-demo/2.0.1/microLab.csv.gz'),\n",
       " PosixPath('../rawdata/eicu-crd-demo/2.0.1/nurseCare.csv.gz'),\n",
       " PosixPath('../rawdata/eicu-crd-demo/2.0.1/physicalExam.csv.gz'),\n",
       " PosixPath('../rawdata/eicu-crd-demo/2.0.1/respiratoryCharting.csv.gz'),\n",
       " PosixPath('../rawdata/eicu-crd-demo/2.0.1/note.csv.gz'),\n",
       " PosixPath('../rawdata/eicu-crd-demo/2.0.1/admissiondrug.csv.gz'),\n",
       " PosixPath('../rawdata/eicu-crd-demo/2.0.1/lab.csv.gz'),\n",
       " PosixPath('../rawdata/eicu-crd-demo/2.0.1/apachePredVar.csv.gz'),\n",
       " PosixPath('../rawdata/eicu-crd-demo/2.0.1/customLab.csv.gz'),\n",
       " PosixPath('../rawdata/eicu-crd-demo/2.0.1/apachePatientResult.csv.gz'),\n",
       " PosixPath('../rawdata/eicu-crd-demo/2.0.1/carePlanInfectiousDisease.csv.gz'),\n",
       " PosixPath('../rawdata/eicu-crd-demo/2.0.1/allergy.csv.gz'),\n",
       " PosixPath('../rawdata/eicu-crd-demo/2.0.1/nurseCharting.csv.gz'),\n",
       " PosixPath('../rawdata/eicu-crd-demo/2.0.1/pastHistory.csv.gz'),\n",
       " PosixPath('../rawdata/eicu-crd-demo/2.0.1/medication.csv.gz'),\n",
       " PosixPath('../rawdata/eicu-crd-demo/2.0.1/intakeOutput.csv.gz'),\n",
       " PosixPath('../rawdata/mimic-iv-ed-demo/2.2/ed/diagnosis.csv.gz'),\n",
       " PosixPath('../rawdata/mimic-iv-ed-demo/2.2/ed/medrecon.csv.gz'),\n",
       " PosixPath('../rawdata/mimic-iv-ed-demo/2.2/ed/vitalsign.csv.gz'),\n",
       " PosixPath('../rawdata/mimic-iv-ed-demo/2.2/ed/triage.csv.gz'),\n",
       " PosixPath('../rawdata/mimic-iv-ed-demo/2.2/ed/edstays.csv.gz'),\n",
       " PosixPath('../rawdata/mimic-iv-ed-demo/2.2/ed/pyxis.csv.gz'),\n",
       " PosixPath('../rawdata/mimic2-iaccd/1.0/full_cohort_data.csv'),\n",
       " PosixPath('../rawdata/mimic2-iaccd/1.0/aline-mimic-ii-master/Data_Analysis/R/hufeng/rnd12.csv'),\n",
       " PosixPath('../rawdata/mimic2-iaccd/1.0/aline-mimic-ii-master/Data_Analysis/R/hufeng/rnd5.csv'),\n",
       " PosixPath('../rawdata/mimic2-iaccd/1.0/aline-mimic-ii-master/Data_Analysis/R/hufeng/rnd4.csv'),\n",
       " PosixPath('../rawdata/mimic2-iaccd/1.0/aline-mimic-ii-master/Data_Analysis/R/hufeng/rnd13.csv'),\n",
       " PosixPath('../rawdata/mimic2-iaccd/1.0/aline-mimic-ii-master/Data_Analysis/R/hufeng/rnd11.csv'),\n",
       " PosixPath('../rawdata/mimic2-iaccd/1.0/aline-mimic-ii-master/Data_Analysis/R/hufeng/rnd6.csv'),\n",
       " PosixPath('../rawdata/mimic2-iaccd/1.0/aline-mimic-ii-master/Data_Analysis/R/hufeng/rnd7.csv'),\n",
       " PosixPath('../rawdata/mimic2-iaccd/1.0/aline-mimic-ii-master/Data_Analysis/R/hufeng/rnd10.csv'),\n",
       " PosixPath('../rawdata/mimic2-iaccd/1.0/aline-mimic-ii-master/Data_Analysis/R/hufeng/rnd14.csv'),\n",
       " PosixPath('../rawdata/mimic2-iaccd/1.0/aline-mimic-ii-master/Data_Analysis/R/hufeng/rnd3.csv'),\n",
       " PosixPath('../rawdata/mimic2-iaccd/1.0/aline-mimic-ii-master/Data_Analysis/R/hufeng/rnd2.csv'),\n",
       " PosixPath('../rawdata/mimic2-iaccd/1.0/aline-mimic-ii-master/Data_Analysis/R/hufeng/rnd15.csv'),\n",
       " PosixPath('../rawdata/mimic2-iaccd/1.0/aline-mimic-ii-master/Data_Analysis/R/hufeng/auroc.csv'),\n",
       " PosixPath('../rawdata/mimic2-iaccd/1.0/aline-mimic-ii-master/Data_Analysis/R/hufeng/rnd17.csv'),\n",
       " PosixPath('../rawdata/mimic2-iaccd/1.0/aline-mimic-ii-master/Data_Analysis/R/hufeng/rnd1.csv'),\n",
       " PosixPath('../rawdata/mimic2-iaccd/1.0/aline-mimic-ii-master/Data_Analysis/R/hufeng/rnd16.csv'),\n",
       " PosixPath('../rawdata/mimic2-iaccd/1.0/aline-mimic-ii-master/Data_Analysis/R/hufeng/rnd18.csv'),\n",
       " PosixPath('../rawdata/mimic2-iaccd/1.0/aline-mimic-ii-master/Data_Analysis/R/hufeng/rnd19.csv'),\n",
       " PosixPath('../rawdata/mimic2-iaccd/1.0/aline-mimic-ii-master/Data_Analysis/R/hufeng/rnd20.csv'),\n",
       " PosixPath('../rawdata/mimic2-iaccd/1.0/aline-mimic-ii-master/Data_Analysis/R/hufeng/rnd9.csv'),\n",
       " PosixPath('../rawdata/mimic2-iaccd/1.0/aline-mimic-ii-master/Data_Analysis/R/hufeng/rnd8.csv'),\n",
       " PosixPath('../rawdata/mimic2-iaccd/1.0/aline-mimic-ii-master/Data_Extraction/plotdata.csv'),\n",
       " PosixPath('../rawdata/mimic2-iaccd/1.0/aline-mimic-ii-master/Data_Extraction/or.csv'),\n",
       " PosixPath('../rawdata/mimic2-iaccd/1.0/aline-mimic-ii-master/Data_Extraction/temp.csv'),\n",
       " PosixPath('../rawdata/mimic2-iaccd/1.0/aline-mimic-ii-master/Data_Extraction/pvalue.csv'),\n",
       " PosixPath('../rawdata/mimic-iii-demo/PROCEDUREEVENTS_MV.csv'),\n",
       " PosixPath('../rawdata/mimic-iii-demo/CALLOUT.csv'),\n",
       " PosixPath('../rawdata/mimic-iii-demo/D_CPT.csv'),\n",
       " PosixPath('../rawdata/mimic-iii-demo/D_ITEMS.csv'),\n",
       " PosixPath('../rawdata/mimic-iii-demo/CAREGIVERS.csv'),\n",
       " PosixPath('../rawdata/mimic-iii-demo/MICROBIOLOGYEVENTS.csv'),\n",
       " PosixPath('../rawdata/mimic-iii-demo/LABEVENTS.csv'),\n",
       " PosixPath('../rawdata/mimic-iii-demo/INPUTEVENTS_CV.csv'),\n",
       " PosixPath('../rawdata/mimic-iii-demo/ADMISSIONS.csv'),\n",
       " PosixPath('../rawdata/mimic-iii-demo/D_LABITEMS.csv'),\n",
       " PosixPath('../rawdata/mimic-iii-demo/DATETIMEEVENTS.csv'),\n",
       " PosixPath('../rawdata/mimic-iii-demo/PRESCRIPTIONS.csv'),\n",
       " PosixPath('../rawdata/mimic-iii-demo/PROCEDURES_ICD.csv'),\n",
       " PosixPath('../rawdata/mimic-iii-demo/NOTEEVENTS.csv'),\n",
       " PosixPath('../rawdata/mimic-iii-demo/CHARTEVENTS.csv'),\n",
       " PosixPath('../rawdata/mimic-iii-demo/TRANSFERS.csv'),\n",
       " PosixPath('../rawdata/mimic-iii-demo/DIAGNOSES_ICD.csv'),\n",
       " PosixPath('../rawdata/mimic-iii-demo/SERVICES.csv'),\n",
       " PosixPath('../rawdata/mimic-iii-demo/DRGCODES.csv'),\n",
       " PosixPath('../rawdata/mimic-iii-demo/OUTPUTEVENTS.csv'),\n",
       " PosixPath('../rawdata/mimic-iii-demo/PATIENTS.csv'),\n",
       " PosixPath('../rawdata/mimic-iii-demo/D_ICD_DIAGNOSES.csv'),\n",
       " PosixPath('../rawdata/mimic-iii-demo/ICUSTAYS.csv'),\n",
       " PosixPath('../rawdata/mimic-iii-demo/INPUTEVENTS_MV.csv'),\n",
       " PosixPath('../rawdata/mimic-iii-demo/D_ICD_PROCEDURES.csv'),\n",
       " PosixPath('../rawdata/mimic-iii-demo/CPTEVENTS.csv'),\n",
       " PosixPath('../rawdata/mimic-iv-demo/2.2/demo_subject_id.csv'),\n",
       " PosixPath('../rawdata/mimic-iv-demo/2.2/hosp/poe.csv.gz'),\n",
       " PosixPath('../rawdata/mimic-iv-demo/2.2/hosp/d_hcpcs.csv.gz'),\n",
       " PosixPath('../rawdata/mimic-iv-demo/2.2/hosp/poe_detail.csv.gz'),\n",
       " PosixPath('../rawdata/mimic-iv-demo/2.2/hosp/patients.csv.gz'),\n",
       " PosixPath('../rawdata/mimic-iv-demo/2.2/hosp/diagnoses_icd.csv.gz'),\n",
       " PosixPath('../rawdata/mimic-iv-demo/2.2/hosp/emar_detail.csv.gz'),\n",
       " PosixPath('../rawdata/mimic-iv-demo/2.2/hosp/provider.csv.gz'),\n",
       " PosixPath('../rawdata/mimic-iv-demo/2.2/hosp/prescriptions.csv.gz'),\n",
       " PosixPath('../rawdata/mimic-iv-demo/2.2/hosp/drgcodes.csv.gz'),\n",
       " PosixPath('../rawdata/mimic-iv-demo/2.2/hosp/d_icd_diagnoses.csv.gz'),\n",
       " PosixPath('../rawdata/mimic-iv-demo/2.2/hosp/d_labitems.csv.gz'),\n",
       " PosixPath('../rawdata/mimic-iv-demo/2.2/hosp/transfers.csv.gz'),\n",
       " PosixPath('../rawdata/mimic-iv-demo/2.2/hosp/admissions.csv.gz'),\n",
       " PosixPath('../rawdata/mimic-iv-demo/2.2/hosp/labevents.csv.gz'),\n",
       " PosixPath('../rawdata/mimic-iv-demo/2.2/hosp/pharmacy.csv.gz'),\n",
       " PosixPath('../rawdata/mimic-iv-demo/2.2/hosp/procedures_icd.csv.gz'),\n",
       " PosixPath('../rawdata/mimic-iv-demo/2.2/hosp/hcpcsevents.csv.gz'),\n",
       " PosixPath('../rawdata/mimic-iv-demo/2.2/hosp/services.csv.gz'),\n",
       " PosixPath('../rawdata/mimic-iv-demo/2.2/hosp/d_icd_procedures.csv.gz'),\n",
       " PosixPath('../rawdata/mimic-iv-demo/2.2/hosp/omr.csv.gz'),\n",
       " PosixPath('../rawdata/mimic-iv-demo/2.2/hosp/emar.csv.gz'),\n",
       " PosixPath('../rawdata/mimic-iv-demo/2.2/hosp/microbiologyevents.csv.gz'),\n",
       " PosixPath('../rawdata/mimic-iv-demo/2.2/icu/datetimeevents.csv.gz'),\n",
       " PosixPath('../rawdata/mimic-iv-demo/2.2/icu/caregiver.csv.gz'),\n",
       " PosixPath('../rawdata/mimic-iv-demo/2.2/icu/ingredientevents.csv.gz'),\n",
       " PosixPath('../rawdata/mimic-iv-demo/2.2/icu/inputevents.csv.gz'),\n",
       " PosixPath('../rawdata/mimic-iv-demo/2.2/icu/procedureevents.csv.gz'),\n",
       " PosixPath('../rawdata/mimic-iv-demo/2.2/icu/d_items.csv.gz'),\n",
       " PosixPath('../rawdata/mimic-iv-demo/2.2/icu/chartevents.csv.gz'),\n",
       " PosixPath('../rawdata/mimic-iv-demo/2.2/icu/icustays.csv.gz'),\n",
       " PosixPath('../rawdata/mimic-iv-demo/2.2/icu/outputevents.csv.gz')]"
      ]
     },
     "execution_count": 43,
     "metadata": {},
     "output_type": "execute_result"
    }
   ],
   "source": [
    "path = \"../rawdata\"\n",
    "\n",
    "data = pathlib.Path(path)\n",
    "\n",
    "csv_files = list(data.rglob(\"*.csv*\"))\n",
    "csv_files"
   ]
  },
  {
   "cell_type": "code",
   "execution_count": 44,
   "metadata": {},
   "outputs": [
    {
     "data": {
      "text/html": [
       "<div>\n",
       "<style scoped>\n",
       "    .dataframe tbody tr th:only-of-type {\n",
       "        vertical-align: middle;\n",
       "    }\n",
       "\n",
       "    .dataframe tbody tr th {\n",
       "        vertical-align: top;\n",
       "    }\n",
       "\n",
       "    .dataframe thead th {\n",
       "        text-align: right;\n",
       "    }\n",
       "</style>\n",
       "<table border=\"1\" class=\"dataframe\">\n",
       "  <thead>\n",
       "    <tr style=\"text-align: right;\">\n",
       "      <th></th>\n",
       "      <th>diagnosisid</th>\n",
       "      <th>patientunitstayid</th>\n",
       "      <th>activeupondischarge</th>\n",
       "      <th>diagnosisoffset</th>\n",
       "      <th>diagnosisstring</th>\n",
       "      <th>icd9code</th>\n",
       "      <th>diagnosispriority</th>\n",
       "    </tr>\n",
       "  </thead>\n",
       "  <tbody>\n",
       "    <tr>\n",
       "      <th>24973</th>\n",
       "      <td>43897237</td>\n",
       "      <td>3158501</td>\n",
       "      <td>True</td>\n",
       "      <td>11</td>\n",
       "      <td>neurologic|altered mental status / pain|enceph...</td>\n",
       "      <td>348.31, G93.41</td>\n",
       "      <td>Other</td>\n",
       "    </tr>\n",
       "    <tr>\n",
       "      <th>24974</th>\n",
       "      <td>44151864</td>\n",
       "      <td>3158501</td>\n",
       "      <td>True</td>\n",
       "      <td>11</td>\n",
       "      <td>hematology|white blood cell disorders|leukocyt...</td>\n",
       "      <td>288.8, D72.829</td>\n",
       "      <td>Other</td>\n",
       "    </tr>\n",
       "    <tr>\n",
       "      <th>24975</th>\n",
       "      <td>44379558</td>\n",
       "      <td>3158501</td>\n",
       "      <td>True</td>\n",
       "      <td>11</td>\n",
       "      <td>pulmonary|disorders of acid base|respiratory a...</td>\n",
       "      <td>276.2, E87.2</td>\n",
       "      <td>Other</td>\n",
       "    </tr>\n",
       "    <tr>\n",
       "      <th>24976</th>\n",
       "      <td>44000639</td>\n",
       "      <td>3158501</td>\n",
       "      <td>True</td>\n",
       "      <td>11</td>\n",
       "      <td>neurologic|altered mental status / pain|delirium</td>\n",
       "      <td>293.0, F05</td>\n",
       "      <td>Other</td>\n",
       "    </tr>\n",
       "    <tr>\n",
       "      <th>24977</th>\n",
       "      <td>44496559</td>\n",
       "      <td>3173599</td>\n",
       "      <td>True</td>\n",
       "      <td>36</td>\n",
       "      <td>cardiovascular|chest pain / ASHD|acute coronar...</td>\n",
       "      <td>410.90, I21.3</td>\n",
       "      <td>Primary</td>\n",
       "    </tr>\n",
       "  </tbody>\n",
       "</table>\n",
       "</div>"
      ],
      "text/plain": [
       "       diagnosisid  patientunitstayid  activeupondischarge  diagnosisoffset  \\\n",
       "24973     43897237            3158501                 True               11   \n",
       "24974     44151864            3158501                 True               11   \n",
       "24975     44379558            3158501                 True               11   \n",
       "24976     44000639            3158501                 True               11   \n",
       "24977     44496559            3173599                 True               36   \n",
       "\n",
       "                                         diagnosisstring        icd9code  \\\n",
       "24973  neurologic|altered mental status / pain|enceph...  348.31, G93.41   \n",
       "24974  hematology|white blood cell disorders|leukocyt...  288.8, D72.829   \n",
       "24975  pulmonary|disorders of acid base|respiratory a...    276.2, E87.2   \n",
       "24976   neurologic|altered mental status / pain|delirium      293.0, F05   \n",
       "24977  cardiovascular|chest pain / ASHD|acute coronar...   410.90, I21.3   \n",
       "\n",
       "      diagnosispriority  \n",
       "24973             Other  \n",
       "24974             Other  \n",
       "24975             Other  \n",
       "24976             Other  \n",
       "24977           Primary  "
      ]
     },
     "execution_count": 44,
     "metadata": {},
     "output_type": "execute_result"
    }
   ],
   "source": [
    "df = pd.read_csv(csv_files[0])\n",
    "df.tail()"
   ]
  },
  {
   "cell_type": "code",
   "execution_count": 45,
   "metadata": {},
   "outputs": [
    {
     "data": {
      "text/plain": [
       "diagnosisid               0\n",
       "patientunitstayid         0\n",
       "activeupondischarge       0\n",
       "diagnosisoffset           0\n",
       "diagnosisstring           0\n",
       "icd9code               3772\n",
       "diagnosispriority         0\n",
       "dtype: int64"
      ]
     },
     "execution_count": 45,
     "metadata": {},
     "output_type": "execute_result"
    }
   ],
   "source": [
    "df.isnull().sum()"
   ]
  },
  {
   "cell_type": "code",
   "execution_count": 46,
   "metadata": {},
   "outputs": [
    {
     "data": {
      "text/plain": [
       "diagnosisid            24978\n",
       "patientunitstayid      24978\n",
       "activeupondischarge    24978\n",
       "diagnosisoffset        24978\n",
       "diagnosisstring        24978\n",
       "icd9code               21206\n",
       "diagnosispriority      24978\n",
       "dtype: int64"
      ]
     },
     "execution_count": 46,
     "metadata": {},
     "output_type": "execute_result"
    }
   ],
   "source": [
    "df.count()"
   ]
  },
  {
   "cell_type": "code",
   "execution_count": 47,
   "metadata": {},
   "outputs": [
    {
     "data": {
      "text/plain": [
       "diagnosisid             0.000000\n",
       "patientunitstayid       0.000000\n",
       "activeupondischarge     0.000000\n",
       "diagnosisoffset         0.000000\n",
       "diagnosisstring         0.000000\n",
       "icd9code               17.787419\n",
       "diagnosispriority       0.000000\n",
       "dtype: float64"
      ]
     },
     "execution_count": 47,
     "metadata": {},
     "output_type": "execute_result"
    }
   ],
   "source": [
    "df.isnull().sum()/df.count()*100"
   ]
  },
  {
   "cell_type": "code",
   "execution_count": 54,
   "metadata": {},
   "outputs": [
    {
     "data": {
      "text/plain": [
       "[0.0, 0.0, 0.0, 0.0, 0.0, 17.787418655097614, 0.0]"
      ]
     },
     "execution_count": 54,
     "metadata": {},
     "output_type": "execute_result"
    }
   ],
   "source": [
    "x = list(df.isnull().sum()/df.count()*100)\n",
    "x"
   ]
  },
  {
   "cell_type": "code",
   "execution_count": 55,
   "metadata": {},
   "outputs": [
    {
     "data": {
      "text/plain": [
       "['diagnosisid',\n",
       " 'patientunitstayid',\n",
       " 'activeupondischarge',\n",
       " 'diagnosisoffset',\n",
       " 'diagnosisstring',\n",
       " 'icd9code',\n",
       " 'diagnosispriority']"
      ]
     },
     "execution_count": 55,
     "metadata": {},
     "output_type": "execute_result"
    }
   ],
   "source": [
    "y = list(df.columns)\n",
    "y"
   ]
  },
  {
   "cell_type": "code",
   "execution_count": 67,
   "metadata": {},
   "outputs": [
    {
     "data": {
      "text/plain": [
       "Text(0.5, 0.98, '% of missing')"
      ]
     },
     "execution_count": 67,
     "metadata": {},
     "output_type": "execute_result"
    },
    {
     "data": {
      "image/png": "[encoded data removed]",
      "text/plain": [
       "<Figure size 640x480 with 1 Axes>"
      ]
     },
     "metadata": {},
     "output_type": "display_data"
    }
   ],
   "source": [
    "# added a plot for showing the percentage of trash\n",
    "fig,ax = plt.subplots()\n",
    "ax.barh(y,x,align ='center')\n",
    "ax.invert_yaxis()\n",
    "ax.set_xlim((0,100))\n",
    "ax.xaxis.set_major_formatter(mtick.PercentFormatter())\n",
    "fig.suptitle(r\"% of missing\",fontsize = 20)"
   ]
  },
  {
   "cell_type": "code",
   "execution_count": null,
   "metadata": {},
   "outputs": [],
   "source": []
  }
 ],
 "metadata": {
  "kernelspec": {
   "display_name": "EHR_data_profiling",
   "language": "python",
   "name": "python3"
  },
  "language_info": {
   "codemirror_mode": {
    "name": "ipython",
    "version": 3
   },
   "file_extension": ".py",
   "mimetype": "text/x-python",
   "name": "python",
   "nbconvert_exporter": "python",
   "pygments_lexer": "ipython3",
   "version": "3.11.2"
  },
  "orig_nbformat": 4
 },
 "nbformat": 4,
 "nbformat_minor": 2
}
