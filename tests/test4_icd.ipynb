{
 "cells": [
  {
   "attachments": {},
   "cell_type": "markdown",
   "metadata": {},
   "source": [
    "# test 4 icd\n",
    "\n",
    "In this notebook, i will transfer what have been done previously in `matplotlib` to `plotly`.\n",
    "\n"
   ]
  },
  {
   "cell_type": "code",
   "execution_count": 11,
   "metadata": {},
   "outputs": [],
   "source": [
    "import pandas as pd\n",
    "import os\n",
    "import pathlib\n",
    "import matplotlib.pyplot as plt\n",
    "import matplotlib.ticker as mtick\n",
    "import numpy as np\n",
    "import plotly.express as px\n",
    "import plotly.graph_objects as go\n",
    "\n",
    "import re"
   ]
  },
  {
   "attachments": {},
   "cell_type": "markdown",
   "metadata": {},
   "source": [
    "## File Input"
   ]
  },
  {
   "cell_type": "code",
   "execution_count": 2,
   "metadata": {},
   "outputs": [
    {
     "data": {
      "text/html": [
       "<div>\n",
       "<style scoped>\n",
       "    .dataframe tbody tr th:only-of-type {\n",
       "        vertical-align: middle;\n",
       "    }\n",
       "\n",
       "    .dataframe tbody tr th {\n",
       "        vertical-align: top;\n",
       "    }\n",
       "\n",
       "    .dataframe thead th {\n",
       "        text-align: right;\n",
       "    }\n",
       "</style>\n",
       "<table border=\"1\" class=\"dataframe\">\n",
       "  <thead>\n",
       "    <tr style=\"text-align: right;\">\n",
       "      <th></th>\n",
       "      <th>diagnosisid</th>\n",
       "      <th>patientunitstayid</th>\n",
       "      <th>activeupondischarge</th>\n",
       "      <th>diagnosisoffset</th>\n",
       "      <th>diagnosisstring</th>\n",
       "      <th>icd9code</th>\n",
       "      <th>diagnosispriority</th>\n",
       "    </tr>\n",
       "  </thead>\n",
       "  <tbody>\n",
       "    <tr>\n",
       "      <th>24973</th>\n",
       "      <td>43897237</td>\n",
       "      <td>3158501</td>\n",
       "      <td>True</td>\n",
       "      <td>11</td>\n",
       "      <td>neurologic|altered mental status / pain|enceph...</td>\n",
       "      <td>348.31, G93.41</td>\n",
       "      <td>Other</td>\n",
       "    </tr>\n",
       "    <tr>\n",
       "      <th>24974</th>\n",
       "      <td>44151864</td>\n",
       "      <td>3158501</td>\n",
       "      <td>True</td>\n",
       "      <td>11</td>\n",
       "      <td>hematology|white blood cell disorders|leukocyt...</td>\n",
       "      <td>288.8, D72.829</td>\n",
       "      <td>Other</td>\n",
       "    </tr>\n",
       "    <tr>\n",
       "      <th>24975</th>\n",
       "      <td>44379558</td>\n",
       "      <td>3158501</td>\n",
       "      <td>True</td>\n",
       "      <td>11</td>\n",
       "      <td>pulmonary|disorders of acid base|respiratory a...</td>\n",
       "      <td>276.2, E87.2</td>\n",
       "      <td>Other</td>\n",
       "    </tr>\n",
       "    <tr>\n",
       "      <th>24976</th>\n",
       "      <td>44000639</td>\n",
       "      <td>3158501</td>\n",
       "      <td>True</td>\n",
       "      <td>11</td>\n",
       "      <td>neurologic|altered mental status / pain|delirium</td>\n",
       "      <td>293.0, F05</td>\n",
       "      <td>Other</td>\n",
       "    </tr>\n",
       "    <tr>\n",
       "      <th>24977</th>\n",
       "      <td>44496559</td>\n",
       "      <td>3173599</td>\n",
       "      <td>True</td>\n",
       "      <td>36</td>\n",
       "      <td>cardiovascular|chest pain / ASHD|acute coronar...</td>\n",
       "      <td>410.90, I21.3</td>\n",
       "      <td>Primary</td>\n",
       "    </tr>\n",
       "  </tbody>\n",
       "</table>\n",
       "</div>"
      ],
      "text/plain": [
       "       diagnosisid  patientunitstayid  activeupondischarge  diagnosisoffset  \\\n",
       "24973     43897237            3158501                 True               11   \n",
       "24974     44151864            3158501                 True               11   \n",
       "24975     44379558            3158501                 True               11   \n",
       "24976     44000639            3158501                 True               11   \n",
       "24977     44496559            3173599                 True               36   \n",
       "\n",
       "                                         diagnosisstring        icd9code  \\\n",
       "24973  neurologic|altered mental status / pain|enceph...  348.31, G93.41   \n",
       "24974  hematology|white blood cell disorders|leukocyt...  288.8, D72.829   \n",
       "24975  pulmonary|disorders of acid base|respiratory a...    276.2, E87.2   \n",
       "24976   neurologic|altered mental status / pain|delirium      293.0, F05   \n",
       "24977  cardiovascular|chest pain / ASHD|acute coronar...   410.90, I21.3   \n",
       "\n",
       "      diagnosispriority  \n",
       "24973             Other  \n",
       "24974             Other  \n",
       "24975             Other  \n",
       "24976             Other  \n",
       "24977           Primary  "
      ]
     },
     "execution_count": 2,
     "metadata": {},
     "output_type": "execute_result"
    }
   ],
   "source": [
    "# read all files matching *.csv* in the directory\n",
    "\n",
    "path = \"../rawdata\"\n",
    "data = pathlib.Path(path)\n",
    "# recursively read files\n",
    "csv_files = list(data.rglob(\"*.csv*\"))\n",
    "df = pd.read_csv(csv_files[0])\n",
    "df.tail()"
   ]
  },
  {
   "cell_type": "code",
   "execution_count": 13,
   "metadata": {},
   "outputs": [
    {
     "name": "stderr",
     "output_type": "stream",
     "text": [
      "/var/folders/g9/k6qb06vj6177d3v18ms7g0tw0000gn/T/ipykernel_41464/596203116.py:5: DtypeWarning: Columns (11) have mixed types. Specify dtype option on import or set low_memory=False.\n",
      "  df = pd.read_csv(file)\n",
      "/var/folders/g9/k6qb06vj6177d3v18ms7g0tw0000gn/T/ipykernel_41464/596203116.py:5: DtypeWarning: Columns (17,20,21) have mixed types. Specify dtype option on import or set low_memory=False.\n",
      "  df = pd.read_csv(file)\n",
      "/var/folders/g9/k6qb06vj6177d3v18ms7g0tw0000gn/T/ipykernel_41464/596203116.py:5: DtypeWarning: Columns (8,10,13,14) have mixed types. Specify dtype option on import or set low_memory=False.\n",
      "  df = pd.read_csv(file)\n",
      "/var/folders/g9/k6qb06vj6177d3v18ms7g0tw0000gn/T/ipykernel_41464/596203116.py:5: DtypeWarning: Columns (4,6,7,8,9,10,11,12,13,15,16,17,18,21,23,24,25,26,27,28,29,30,31,32) have mixed types. Specify dtype option on import or set low_memory=False.\n",
      "  df = pd.read_csv(file)\n"
     ]
    },
    {
     "name": "stdout",
     "output_type": "stream",
     "text": [
      "17\n",
      "1427\n"
     ]
    }
   ],
   "source": [
    "icd = []\n",
    "total_column_counter = 0\n",
    "\n",
    "for file in csv_files:\n",
    "    df = pd.read_csv(file)\n",
    "    \n",
    "    icd.extend([column for column in df.columns if re.search('icd',column,re.IGNORECASE)])\n",
    "    \n",
    "    total_column_counter += len(df.columns)\n",
    "\n",
    "print(len(icd))\n",
    "print(total_column_counter)    "
   ]
  },
  {
   "cell_type": "code",
   "execution_count": 15,
   "metadata": {},
   "outputs": [
    {
     "data": {
      "text/plain": [
       "['icd9code',\n",
       " 'systemicdiastolic',\n",
       " 'icd_code',\n",
       " 'icd_version',\n",
       " 'icd_title',\n",
       " 'icd9_code',\n",
       " 'icd9_code',\n",
       " 'icd9_code',\n",
       " 'icd9_code',\n",
       " 'icd_code',\n",
       " 'icd_version',\n",
       " 'icd_code',\n",
       " 'icd_version',\n",
       " 'icd_code',\n",
       " 'icd_version',\n",
       " 'icd_code',\n",
       " 'icd_version']"
      ]
     },
     "execution_count": 15,
     "metadata": {},
     "output_type": "execute_result"
    }
   ],
   "source": [
    "icd"
   ]
  },
  {
   "cell_type": "code",
   "execution_count": null,
   "metadata": {},
   "outputs": [],
   "source": []
  }
 ],
 "metadata": {
  "kernelspec": {
   "display_name": "EHR_data_profiling",
   "language": "python",
   "name": "python3"
  },
  "language_info": {
   "codemirror_mode": {
    "name": "ipython",
    "version": 3
   },
   "file_extension": ".py",
   "mimetype": "text/x-python",
   "name": "python",
   "nbconvert_exporter": "python",
   "pygments_lexer": "ipython3",
   "version": "3.10.10"
  },
  "orig_nbformat": 4,
  "vscode": {
   "interpreter": {
    "hash": "428cba78bd9a10ab0f8f6629ef3b663bef0d766cd01001004550540ac7bfc7f6"
   }
  }
 },
 "nbformat": 4,
 "nbformat_minor": 2
}
